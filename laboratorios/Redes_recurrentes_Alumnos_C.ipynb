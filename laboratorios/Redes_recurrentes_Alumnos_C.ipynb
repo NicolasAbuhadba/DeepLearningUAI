{
  "nbformat": 4,
  "nbformat_minor": 0,
  "metadata": {
    "colab": {
      "name": "Redes-recurrentes-Alumnos-C.ipynb",
      "provenance": [],
      "collapsed_sections": []
    },
    "kernelspec": {
      "name": "python3",
      "display_name": "Python 3"
    },
    "accelerator": "GPU"
  },
  "cells": [
    {
      "cell_type": "markdown",
      "metadata": {
        "id": "N_kigFSYTVQ0",
        "colab_type": "text"
      },
      "source": [
        "# Laboratorio 06: Redes Recurrentes\n",
        "\n",
        "**Objetivo:** Clasificar de apellidos, según su nacionalidad, utilizando un modelo simple de redes neuronales recurrentes. (A nivel de caracter) \n",
        "\n",
        "**Descripción:**\n",
        "\n",
        "Construiremos y entrenaremos un RNN de nivel básico para clasificar palabras. Este tutorial, junto con los dos siguientes, muestra cómo hacer el preprocesamiento de datos para el modelado de un proceso de lenguaje natural (NPL) \"desde cero\". Se utilizarán algunas de las funciones  de *torchtext*, de modo que se pueda ver cómo el preprocesamiento para el modelado de NPL funciona a bajo nivel.\n",
        "\n",
        "Una RNN a nivel de carácter lee las palabras como una serie de caracteres - produciendo una predicción y un \"estado oculto\" en cada paso, alimentando su estado oculto anterior en cada paso siguiente. Tomamos la predicción final como salida, es decir, a qué clase pertenece la palabra.\n",
        "\n",
        "Específicamente, entrenaremos en unos pocos miles de apellidos de 18 idiomas de origen, y predeciremos de qué idioma proviene un nombre basándonos en la ortografía.\n",
        "\n",
        "\n",
        "\n",
        "---\n",
        "NLP From Scratch: Classifying Names with a Character-Level RNN\n",
        "\n",
        "**Autor:** Sean Robertson <https://github.com/spro/practical-pytorch>_\n"
      ]
    },
    {
      "cell_type": "code",
      "metadata": {
        "id": "LZSHMXpWTCI3",
        "colab_type": "code",
        "colab": {}
      },
      "source": [
        "%matplotlib inline"
      ],
      "execution_count": null,
      "outputs": []
    },
    {
      "cell_type": "code",
      "metadata": {
        "id": "rj1ql----tSA",
        "colab_type": "code",
        "colab": {}
      },
      "source": [
        "from google.colab import drive\n",
        "drive.mount('/content/drive')"
      ],
      "execution_count": null,
      "outputs": []
    },
    {
      "cell_type": "markdown",
      "metadata": {
        "id": "Df5iZZvbRLOA",
        "colab_type": "text"
      },
      "source": [
        "**Cargar los datos de Google Drive**"
      ]
    },
    {
      "cell_type": "code",
      "metadata": {
        "id": "FkhUdtFdReN5",
        "colab_type": "code",
        "colab": {
          "base_uri": "https://localhost:8080/",
          "height": 139
        },
        "outputId": "73c6fbe8-8e4f-4118-ff45-b27c46af3635"
      },
      "source": [
        "from google.colab import drive\n",
        "drive.mount('/gdrive')\n",
        "%cd /gdrive"
      ],
      "execution_count": null,
      "outputs": [
        {
          "output_type": "stream",
          "text": [
            "Go to this URL in a browser: https://accounts.google.com/o/oauth2/auth?client_id=947318989803-6bn6qk8qdgf4n4g3pfee6491hc0brc4i.apps.googleusercontent.com&redirect_uri=urn%3aietf%3awg%3aoauth%3a2.0%3aoob&response_type=code&scope=email%20https%3a%2f%2fwww.googleapis.com%2fauth%2fdocs.test%20https%3a%2f%2fwww.googleapis.com%2fauth%2fdrive%20https%3a%2f%2fwww.googleapis.com%2fauth%2fdrive.photos.readonly%20https%3a%2f%2fwww.googleapis.com%2fauth%2fpeopleapi.readonly\n",
            "\n",
            "Enter your authorization code:\n",
            "··········\n",
            "Mounted at /gdrive\n",
            "/gdrive\n"
          ],
          "name": "stdout"
        }
      ]
    },
    {
      "cell_type": "markdown",
      "metadata": {
        "id": "qVIx_MEvUxpJ",
        "colab_type": "text"
      },
      "source": [
        "## 1. Preparando los \n",
        "Bajar la base de datos de apellidos `aquí <https://download.pytorch.org/tutorial/data.zip>`.\n",
        "\n",
        "Extraer estos en el directorio actual.\n",
        "\n",
        "En ``data/names`` se encuentran 18 textos en archivos llamados \"[lenguaje].txt\". Cada archivo contiene apellidos, uno por línea, la mayoría normalizados (pero deben ser convertidos de Unicode a ASCII).\n",
        "\n",
        "Terminaremos con un diccionario con listas de nombres por idioma,\n",
        "``Idioma: [nombres ...]}``. Las variables genéricas \"categoría\" y \"línea\"\n",
        "(para el lenguaje y el nombre en nuestro caso) se utilizan para su posterior ampliación."
      ]
    },
    {
      "cell_type": "code",
      "metadata": {
        "id": "9V5dOxa3YQq9",
        "colab_type": "code",
        "colab": {}
      },
      "source": [
        "import unicodedata\n",
        "import string\n",
        "import glob\n",
        "import os\n",
        "\n",
        "PATH_TEXT = '/content/drive/My Drive/D-UCN/Classes/TecnicasAvanzadasAprendizajeAutomatico/Laboratorios/Laboratorio06:RedesRecurrentes/database/names'\n",
        "\n",
        "all_letters = string.ascii_letters + \" .,;'\"\n",
        "n_letters = len(all_letters)\n",
        "\n",
        "# Convertir el código Unicode al texto ASCII (https://stackoverflow.com/a/518232/2809427)\n",
        "def unicodeToAscii(s):\n",
        "  return ''.join(\n",
        "      c for c in unicodedata.normalize('NFD', s)\n",
        "      if unicodedata.category(c) != 'Mn'\n",
        "      and c in all_letters\n",
        "  )\n",
        "\n",
        "# print(unicodeToAscii('Ślusàrski'))\n",
        "\n",
        "# Leer los archivos y los cargaremos en un estructura de tipo diccionario\n",
        "category_lines = {}\n",
        "all_categories = []\n",
        "\n",
        "def readLines(filenames):\n",
        "  lines = open(filename, encoding='utf-8').read().strip().split('\\n')\n",
        "  return [unicodeToAscii(line) for line in lines]\n",
        "\n",
        "for filename in glob.glob(f'{PATH_TEXT}/*.txt'):\n",
        "  category = os.path.splitext(os.path.basename(filename))[0]\n",
        "  all_categories.append(category)\n",
        "  lines = readLines(filename)\n",
        "  category_lines[category] = lines\n",
        "\n",
        "n_categories = len(all_categories)"
      ],
      "execution_count": null,
      "outputs": []
    },
    {
      "cell_type": "markdown",
      "metadata": {
        "id": "bLj5VD6iYfWN",
        "colab_type": "text"
      },
      "source": [
        "Ahora tenemos `category_lines`, un diccionario que mapea cada categoría (idioma) a una lista de líneas (nombres). También llevamos un registro de `all_categories` (sólo una lista de idiomas) y `n_categories` para su posterior referencia."
      ]
    },
    {
      "cell_type": "code",
      "metadata": {
        "id": "J3hbZSkxY3GD",
        "colab_type": "code",
        "colab": {
          "base_uri": "https://localhost:8080/",
          "height": 54
        },
        "outputId": "3cdadfe4-181a-4606-9566-6267fa0e297e"
      },
      "source": [
        "print(all_categories)"
      ],
      "execution_count": null,
      "outputs": [
        {
          "output_type": "stream",
          "text": [
            "['Vietnamese', 'Spanish', 'Japanese', 'Korean', 'English', 'Scottish', 'German', 'Irish', 'Chinese', 'Polish', 'Italian', 'Russian', 'Dutch', 'Portuguese', 'French', 'Czech', 'Arabic', 'Greek']\n"
          ],
          "name": "stdout"
        }
      ]
    },
    {
      "cell_type": "code",
      "metadata": {
        "id": "oryk6ERs1eQR",
        "colab_type": "code",
        "colab": {
          "base_uri": "https://localhost:8080/",
          "height": 34
        },
        "outputId": "b8c886b2-4841-4a65-f13e-58e44db19000"
      },
      "source": [
        "print(category_lines['Greek'][:5])"
      ],
      "execution_count": null,
      "outputs": [
        {
          "output_type": "stream",
          "text": [
            "['Adamidis', 'Adamou', 'Agelakos', 'Akrivopoulos', 'Alexandropoulos']\n"
          ],
          "name": "stdout"
        }
      ]
    },
    {
      "cell_type": "markdown",
      "metadata": {
        "id": "EozPr7wIY5Ub",
        "colab_type": "text"
      },
      "source": [
        "## 2. Convirtiendo los nombres a tensores\n",
        "\n",
        "Ahora que tenemos todos los nombres organizados, necesitamos convertirlos en\n",
        "Tensores para hacer cualquier uso de ellos.\n",
        "\n",
        "Para representar una sola **letra**, usamos un \"***one-hot vector***\" de tamaño `<1 x n_letters>`. Un vector de una letra (***one-hot vector***), consiste en un arreglo que contiene ceros y un (uno solo) en el índice de la letra que se quiere representar. Por ejemplo, `\"b\"= <0 1 0 0 0 ...>`.\n",
        "\n",
        "Para representar una **palabra** unimos varios vectores de una letra en una matriz 2D `<line_length x 1 x n_letters>`.\n",
        "\n",
        "La dimesión 1 extra indica a Pytorch que esa estructura está en lotes (*batch*), indicando que el tamaño del lote es uno.\n"
      ]
    },
    {
      "cell_type": "code",
      "metadata": {
        "id": "dtyEfy5qa18Q",
        "colab_type": "code",
        "colab": {}
      },
      "source": [
        "\n"
      ],
      "execution_count": null,
      "outputs": []
    },
    {
      "cell_type": "markdown",
      "metadata": {
        "id": "DexIKj84gf4i",
        "colab_type": "text"
      },
      "source": [
        "## 3. Creando la red\n",
        "\n",
        "Antes del *autograd*, la creación de una red neural recurrente en Torch implicaba\n",
        "clonar los parámetros de una capa en varios pasos de tiempo. Las capas\n",
        "mantenían estados y gradientes ocultos que ahora son manejados enteramente por la librería. Esto significa que puedes implementar un RNN de una manera muy \"pura\", como capas regulares de alimentación...\n",
        "\n",
        "Este módulo RNN (en su mayoría copiado de \"The PyTorch for Torch users\")\n",
        "tutorial <https://pytorch.org/tutorials/beginner/former_torchies/\n",
        "nn_tutorial.html#example-2-recurrent-net>`__)\n",
        "son sólo 2 capas lineales que operan en un estado de entrada y oculto, con\n",
        "una capa de LogSoftmax después de la salida.\n",
        "\n",
        "Figura:: https://i.imgur.com/Z2xbySO.png\n",
        "\n",
        "Figura [(softmax)](https://cdn-images-1.medium.com/freeze/max/1000/1*ghDbeGZZUloPOJK7g3OyBg.png?q=20)::\n",
        "\n"
      ]
    },
    {
      "cell_type": "code",
      "metadata": {
        "id": "n2OHMKgOghYc",
        "colab_type": "code",
        "colab": {}
      },
      "source": [
        ""
      ],
      "execution_count": null,
      "outputs": []
    },
    {
      "cell_type": "markdown",
      "metadata": {
        "id": "nkxMoHhkjsrU",
        "colab_type": "text"
      },
      "source": [
        "Para ejecutar un paso de esta red necesitamos pasar una entrada (en nuestro caso, el\n",
        "Tensor para la letra actual) y un estado oculto anterior (que nosotros\n",
        "inicializar como ceros al principio). Recuperaremos la salida (probabilidad de\n",
        "cada idioma) y un siguiente estado oculto (que guardamos para el próximo\n",
        "paso)."
      ]
    },
    {
      "cell_type": "code",
      "metadata": {
        "id": "zWiTauhejr5d",
        "colab_type": "code",
        "colab": {}
      },
      "source": [
        ""
      ],
      "execution_count": null,
      "outputs": []
    },
    {
      "cell_type": "markdown",
      "metadata": {
        "id": "4sYVj4Z4kHqJ",
        "colab_type": "text"
      },
      "source": [
        "Para mejorar la eficiencia no queremos crear un nuevo Tensor para\n",
        "cada paso, así que usaremos ``lineToTensor`` en lugar de\n",
        "``letterToTensor`` y usa *slices*. Esto podría ser optimizado aún más por\n",
        "precomputando lotes de Tensores."
      ]
    },
    {
      "cell_type": "code",
      "metadata": {
        "id": "jQfQchKfkX1J",
        "colab_type": "code",
        "colab": {}
      },
      "source": [
        ""
      ],
      "execution_count": null,
      "outputs": []
    },
    {
      "cell_type": "markdown",
      "metadata": {
        "id": "DNHadH4skjwB",
        "colab_type": "text"
      },
      "source": [
        "Como puedes ver, la salida es un tensor ``<1 x n_categories>``, donde\n",
        "cada *item* es la probabilidad de esa categoría (más alta es más probable).\n",
        "\n",
        "## 4. Entrenando la red\n",
        "\n",
        "Preparando los datos\n",
        "--------------------\n",
        "\n",
        "Antes de entrar en el entrenamiento debemos hacer algunas funciones de ayuda. La primera es interpretar el resultado de la red, que sabemos que es una probabilidad de cada categoría. Podemos usar Tensor.topk para obtener el índice de mayor valor:"
      ]
    },
    {
      "cell_type": "code",
      "metadata": {
        "id": "3atWo1eXNl68",
        "colab_type": "code",
        "colab": {
          "base_uri": "https://localhost:8080/",
          "height": 34
        },
        "outputId": "2dabcd11-7a1c-4188-f25e-d1cb09eb0cf2"
      },
      "source": [
        ""
      ],
      "execution_count": null,
      "outputs": [
        {
          "output_type": "stream",
          "text": [
            "('Portuguese', 13)\n"
          ],
          "name": "stdout"
        }
      ]
    },
    {
      "cell_type": "markdown",
      "metadata": {
        "id": "OI1PH7pPNyVk",
        "colab_type": "text"
      },
      "source": [
        "También queremos una forma rápida de obtener un ejemplo de entrenamiento (un nombre y su\n",
        "idioma):"
      ]
    },
    {
      "cell_type": "code",
      "metadata": {
        "id": "9owXNOWBN3Cs",
        "colab_type": "code",
        "colab": {}
      },
      "source": [
        ""
      ],
      "execution_count": null,
      "outputs": []
    },
    {
      "cell_type": "markdown",
      "metadata": {
        "id": "2fN8ruQMOBtN",
        "colab_type": "text"
      },
      "source": [
        "Entrenamiento de la red\n",
        "--------------------\n",
        "\n",
        "Ahora todo lo que se necesita para entrenar a esta red es mostrarle un montón de ejemplos.\n",
        "\n",
        "Para la función de pérdida `n.NLLLoss` es apropiado, ya que la última\n",
        "La capa del RNN es `nn.LogSoftmax`."
      ]
    },
    {
      "cell_type": "code",
      "metadata": {
        "id": "ZRP2IuHrOSTQ",
        "colab_type": "code",
        "colab": {}
      },
      "source": [
        ""
      ],
      "execution_count": null,
      "outputs": []
    },
    {
      "cell_type": "markdown",
      "metadata": {
        "id": "J6zoXfiPOW7s",
        "colab_type": "text"
      },
      "source": [
        "Cada ciclo de entrenamiento hará:\n",
        "\n",
        "1. Crear tensores de entrada y de destino\n",
        "\n",
        "2. Crear un estado inicial oculto igual a cero\n",
        "\n",
        "3. Leer cada letra y mantener el estado oculto para la próxima letra.\n",
        "\n",
        "4. Comparar el resultado final con el objetivo\n",
        "\n",
        "5. *Back-propagate*\n",
        "\n",
        "6. Devolver la salida y la pérdida"
      ]
    },
    {
      "cell_type": "code",
      "metadata": {
        "id": "FdPmWvvoPHpV",
        "colab_type": "code",
        "colab": {}
      },
      "source": [
        "\n",
        "\n"
      ],
      "execution_count": null,
      "outputs": []
    },
    {
      "cell_type": "markdown",
      "metadata": {
        "id": "x8idXbiLPMCt",
        "colab_type": "text"
      },
      "source": [
        "Ahora sólo tenemos que correr esto con un montón de ejemplos. Como la función del entrenamiento devuelve tanto la salida como la pérdida, podemos imprimir sus predicciones y también llevar la cuenta de la pérdida. Ya que hay miles de ejemplos, imprimimos sólo cada uno de ellos y tomamos un promedio de la pérdida."
      ]
    },
    {
      "cell_type": "code",
      "metadata": {
        "id": "hsSnEVMnPmjF",
        "colab_type": "code",
        "colab": {}
      },
      "source": [
        ""
      ],
      "execution_count": null,
      "outputs": []
    },
    {
      "cell_type": "markdown",
      "metadata": {
        "id": "TkGnsConPpG1",
        "colab_type": "text"
      },
      "source": [
        "## 5. Graficando los resultados\n",
        "\n",
        "Graficar la pérdida histórica de `all_loses` muestra el aprendizaje de la red."
      ]
    },
    {
      "cell_type": "code",
      "metadata": {
        "id": "okJbnsOeP8S2",
        "colab_type": "code",
        "colab": {
          "base_uri": "https://localhost:8080/",
          "height": 282
        },
        "outputId": "e7488aee-8a80-409c-bfdf-2ffd3505558e"
      },
      "source": [
        "import matplotlib.pyplot as plt\n",
        "import matplotlib.ticker as ticker\n",
        "\n",
        "plt.figure()\n",
        "plt.plot(all_losses)"
      ],
      "execution_count": null,
      "outputs": [
        {
          "output_type": "execute_result",
          "data": {
            "text/plain": [
              "[<matplotlib.lines.Line2D at 0x7fabe074aef0>]"
            ]
          },
          "metadata": {
            "tags": []
          },
          "execution_count": 21
        },
        {
          "output_type": "display_data",
          "data": {
            "image/png": "[encoded data removed]",
            "text/plain": [
              "<Figure size 432x288 with 1 Axes>"
            ]
          },
          "metadata": {
            "tags": [],
            "needs_background": "light"
          }
        }
      ]
    },
    {
      "cell_type": "markdown",
      "metadata": {
        "id": "ghIyV3qMQBul",
        "colab_type": "text"
      },
      "source": [
        "# 6. Evaluando los resultados\n",
        "\n",
        "Para ver cómo funciona la red en diferentes categorías, vamos a\n",
        "crear una **matriz de confusión**, indicando para cada idioma real (filas)\n",
        "qué idioma adivina la red (columnas). Para calcular la confusión\n",
        "matriz un montón de muestras se ejecutan a través de la red con\n",
        "`Evaluar`, que es lo mismo que `Entrenar`, menos el respaldo."
      ]
    },
    {
      "cell_type": "code",
      "metadata": {
        "id": "Nvw2_qg-QY3G",
        "colab_type": "code",
        "colab": {}
      },
      "source": [
        "# Keep track of correct guesses in a confusion matrix\n",
        "confusion = torch.zeros(n_categories, n_categories)\n",
        "n_confusion = 10000\n",
        "\n",
        "# Just return an output given a line\n",
        "def evaluate(line_tensor):\n",
        "    hidden = rnn.initHidden()\n",
        "\n",
        "    for i in range(line_tensor.size()[0]):\n",
        "        output, hidden = rnn(line_tensor[i], hidden)\n",
        "\n",
        "    return output\n",
        "\n",
        "# Go through a bunch of examples and record which are correctly guessed\n",
        "for i in range(n_confusion):\n",
        "    category, line, category_tensor, line_tensor = randomTrainingExample()\n",
        "    output = evaluate(line_tensor)\n",
        "    guess, guess_i = categoryFromOutput(output)\n",
        "    category_i = all_categories.index(category)\n",
        "    confusion[category_i][guess_i] += 1\n",
        "\n",
        "# Normalize by dividing every row by its sum\n",
        "for i in range(n_categories):\n",
        "    confusion[i] = confusion[i] / confusion[i].sum()\n",
        "\n",
        "# Set up plot\n",
        "fig = plt.figure()\n",
        "ax = fig.add_subplot(111)\n",
        "cax = ax.matshow(confusion.numpy())\n",
        "fig.colorbar(cax)\n",
        "\n",
        "# Set up axes\n",
        "ax.set_xticklabels([''] + all_categories, rotation=90)\n",
        "ax.set_yticklabels([''] + all_categories)\n",
        "\n",
        "# Force label at every tick\n",
        "ax.xaxis.set_major_locator(ticker.MultipleLocator(1))\n",
        "ax.yaxis.set_major_locator(ticker.MultipleLocator(1))\n",
        "\n",
        "# sphinx_gallery_thumbnail_number = 2\n",
        "plt.show()"
      ],
      "execution_count": null,
      "outputs": []
    },
    {
      "cell_type": "markdown",
      "metadata": {
        "id": "676JMowHQdNN",
        "colab_type": "text"
      },
      "source": [
        "Puedes elegir los puntos más brillantes en el eje principal que muestren qué\n",
        "idiomas que adivina incorrectamente, por ejemplo, el chino para el coreano, y el español para el italiano. Parece que le va muy bien con el griego, y muy mal con Inglés (tal vez debido a la superposición con otros idiomas)."
      ]
    },
    {
      "cell_type": "code",
      "metadata": {
        "id": "HkdPiWitQugn",
        "colab_type": "code",
        "colab": {}
      },
      "source": [
        "def predict(input_line, n_predictions=3):\n",
        "    print('\\n> %s' % input_line)\n",
        "    with torch.no_grad():\n",
        "        output = evaluate(lineToTensor(input_line))\n",
        "\n",
        "        # Get top N categories\n",
        "        topv, topi = output.topk(n_predictions, 1, True)\n",
        "        predictions = []\n",
        "\n",
        "        for i in range(n_predictions):\n",
        "            value = topv[0][i].item()\n",
        "            category_index = topi[0][i].item()\n",
        "            print('(%.2f) %s' % (value, all_categories[category_index]))\n",
        "            predictions.append([value, all_categories[category_index]])\n",
        "\n",
        "predict('Dovesky')\n",
        "predict('Jackson')\n",
        "predict('Satoshi')\n",
        "predict('Bekios')"
      ],
      "execution_count": null,
      "outputs": []
    },
    {
      "cell_type": "markdown",
      "metadata": {
        "id": "dXkRhsgbQ98e",
        "colab_type": "text"
      },
      "source": [
        "La versión completa del código la pueden revisar en <https://github.com/spro/practical-pytorch/tree/master/char-rnn-classification>`"
      ]
    }
  ]
}