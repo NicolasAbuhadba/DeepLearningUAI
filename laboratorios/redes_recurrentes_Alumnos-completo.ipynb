{
  "nbformat": 4,
  "nbformat_minor": 0,
  "metadata": {
    "colab": {
      "name": "Redes-recurrentes-Alumnos-C.ipynb",
      "provenance": [],
      "collapsed_sections": [],
      "toc_visible": true
    },
    "kernelspec": {
      "name": "python3",
      "display_name": "Python 3"
    },
    "accelerator": "GPU"
  },
  "cells": [
    {
      "cell_type": "markdown",
      "metadata": {
        "id": "N_kigFSYTVQ0",
        "colab_type": "text"
      },
      "source": [
        "# Laboratorio 06: Redes Recurrentes\n",
        "\n",
        "**Objetivo:** Clasificar de apellidos, según su nacionalidad, utilizando un modelo simple de redes neuronales recurrentes. (A nivel de caracter) \n",
        "\n",
        "**Descripción:**\n",
        "\n",
        "Construiremos y entrenaremos un RNN de nivel básico para clasificar palabras. Este tutorial, junto con los dos siguientes, muestra cómo hacer el preprocesamiento de datos para el modelado de un proceso de lenguaje natural (NPL) \"desde cero\". Se utilizarán algunas de las funciones  de *torchtext*, de modo que se pueda ver cómo el preprocesamiento para el modelado de NPL funciona a bajo nivel.\n",
        "\n",
        "Una RNN a nivel de carácter lee las palabras como una serie de caracteres - produciendo una predicción y un \"estado oculto\" en cada paso, alimentando su estado oculto anterior en cada paso siguiente. Tomamos la predicción final como salida, es decir, a qué clase pertenece la palabra.\n",
        "\n",
        "Específicamente, entrenaremos en unos pocos miles de apellidos de 18 idiomas de origen, y predeciremos de qué idioma proviene un nombre basándonos en la ortografía.\n",
        "\n",
        "\n",
        "\n",
        "---\n",
        "NLP From Scratch: Classifying Names with a Character-Level RNN\n",
        "\n",
        "**Autor:** Sean Robertson <https://github.com/spro/practical-pytorch>_\n"
      ]
    },
    {
      "cell_type": "code",
      "metadata": {
        "id": "LZSHMXpWTCI3",
        "colab_type": "code",
        "colab": {}
      },
      "source": [
        "%matplotlib inline"
      ],
      "execution_count": 8,
      "outputs": []
    },
    {
      "cell_type": "markdown",
      "metadata": {
        "id": "Df5iZZvbRLOA",
        "colab_type": "text"
      },
      "source": [
        "**Cargar los datos de Google Drive**"
      ]
    },
    {
      "cell_type": "code",
      "metadata": {
        "id": "rj1ql----tSA",
        "colab_type": "code",
        "colab": {
          "base_uri": "https://localhost:8080/",
          "height": 34
        },
        "outputId": "36920c57-3bf3-4d6a-9b45-b14ce643afef"
      },
      "source": [
        "from google.colab import drive\n",
        "drive.mount('/content/drive')"
      ],
      "execution_count": 9,
      "outputs": [
        {
          "output_type": "stream",
          "text": [
            "Drive already mounted at /content/drive; to attempt to forcibly remount, call drive.mount(\"/content/drive\", force_remount=True).\n"
          ],
          "name": "stdout"
        }
      ]
    },
    {
      "cell_type": "markdown",
      "metadata": {
        "id": "qVIx_MEvUxpJ",
        "colab_type": "text"
      },
      "source": [
        "## 1. Preparando los \n",
        "Bajar la base de datos de apellidos `aquí <https://download.pytorch.org/tutorial/data.zip>`.\n",
        "\n",
        "Extraer estos en el directorio actual.\n",
        "\n",
        "En ``data/names`` se encuentran 18 textos en archivos llamados \"[lenguaje].txt\". Cada archivo contiene apellidos, uno por línea, la mayoría normalizados (pero deben ser convertidos de Unicode a ASCII).\n",
        "\n",
        "Terminaremos con un diccionario con listas de nombres por idioma,\n",
        "``Idioma: [nombres ...]}``. Las variables genéricas \"categoría\" y \"línea\"\n",
        "(para el lenguaje y el nombre en nuestro caso) se utilizan para su posterior ampliación."
      ]
    },
    {
      "cell_type": "code",
      "metadata": {
        "id": "9V5dOxa3YQq9",
        "colab_type": "code",
        "colab": {
          "base_uri": "https://localhost:8080/",
          "height": 51
        },
        "outputId": "9144b4bd-51de-430f-e59b-352ef131c794"
      },
      "source": [
        "import unicodedata\n",
        "import string\n",
        "import glob # Esta instruccion para los nombres de un archivo dado un path\n",
        "import os\n",
        "\n",
        "PATH_TEXT = '/content/drive/My Drive/D-UCN/Classes/TecnicasAvanzadasAprendizajeAutomatico/Laboratorios/Laboratorio06:RedesRecurrentes/database/names'\n",
        "\n",
        "all_letters = string.ascii_letters + \" .,;'\"\n",
        "n_letters = len(all_letters)\n",
        "\n",
        "print(n_letters)\n",
        "\n",
        "# Convertir el código Unicode al texto ASCII (https://stackoverflow.com/a/518232/2809427)\n",
        "def unicodeToAscii(s):\n",
        "  return ''.join(\n",
        "      c for c in unicodedata.normalize('NFD', s)\n",
        "      if unicodedata.category(c) != 'Mn'\n",
        "      and c in all_letters\n",
        "  )\n",
        "\n",
        "#print(unicodeToAscii('Ślusàrski'))\n",
        "\n",
        "# Leer los archivos y los cargaremos en un estructura de tipo diccionario\n",
        "category_lines = {}\n",
        "all_categories = []\n",
        "\n",
        "def readLines(filenames):\n",
        "  lines = open(filename, encoding='utf-8').read().strip().split('\\n')\n",
        "  return [unicodeToAscii(line) for line in lines]\n",
        "\n",
        "for filename in glob.glob(f'{PATH_TEXT}/*.txt'):\n",
        "  category = os.path.splitext(os.path.basename(filename))[0]\n",
        "  all_categories.append(category)\n",
        "  lines = readLines(filename)\n",
        "  category_lines[category] = lines\n",
        "\n",
        "n_categories = len(all_categories)\n",
        "print(n_categories)"
      ],
      "execution_count": 10,
      "outputs": [
        {
          "output_type": "stream",
          "text": [
            "57\n",
            "18\n"
          ],
          "name": "stdout"
        }
      ]
    },
    {
      "cell_type": "markdown",
      "metadata": {
        "id": "bLj5VD6iYfWN",
        "colab_type": "text"
      },
      "source": [
        "Ahora tenemos `category_lines`, un diccionario que mapea cada categoría (idioma) a una lista de líneas (nombres). También llevamos un registro de `all_categories` (sólo una lista de idiomas) y `n_categories` para su posterior referencia."
      ]
    },
    {
      "cell_type": "code",
      "metadata": {
        "id": "J3hbZSkxY3GD",
        "colab_type": "code",
        "colab": {
          "base_uri": "https://localhost:8080/",
          "height": 54
        },
        "outputId": "bf68c265-b546-418c-fb34-27ba79eba154"
      },
      "source": [
        "print(all_categories)"
      ],
      "execution_count": 11,
      "outputs": [
        {
          "output_type": "stream",
          "text": [
            "['Vietnamese', 'Spanish', 'Japanese', 'Korean', 'English', 'Scottish', 'German', 'Irish', 'Chinese', 'Polish', 'Italian', 'Russian', 'Dutch', 'Portuguese', 'French', 'Czech', 'Arabic', 'Greek']\n"
          ],
          "name": "stdout"
        }
      ]
    },
    {
      "cell_type": "code",
      "metadata": {
        "id": "oryk6ERs1eQR",
        "colab_type": "code",
        "colab": {
          "base_uri": "https://localhost:8080/",
          "height": 34
        },
        "outputId": "438a450c-8181-45ff-e7bd-df0c90274100"
      },
      "source": [
        "print(category_lines['Greek'][:5])"
      ],
      "execution_count": 12,
      "outputs": [
        {
          "output_type": "stream",
          "text": [
            "['Adamidis', 'Adamou', 'Agelakos', 'Akrivopoulos', 'Alexandropoulos']\n"
          ],
          "name": "stdout"
        }
      ]
    },
    {
      "cell_type": "markdown",
      "metadata": {
        "id": "EozPr7wIY5Ub",
        "colab_type": "text"
      },
      "source": [
        "## 2. Convirtiendo los nombres a tensores\n",
        "\n",
        "Ahora que tenemos todos los nombres organizados, necesitamos convertirlos en\n",
        "Tensores para hacer cualquier uso de ellos.\n",
        "\n",
        "Para representar una sola **letra**, usamos un \"***one-hot vector***\" de tamaño `<1 x n_letters>`. Un vector de una letra (***one-hot vector***), consiste en un arreglo que contiene ceros y un (uno solo) en el índice de la letra que se quiere representar. Por ejemplo, `\"b\"= <0 1 0 0 0 ...>`.\n",
        "\n",
        "Para representar una **palabra** unimos varios vectores de una letra en una matriz 2D `<line_length x 1 x n_letters>`.\n",
        "\n",
        "La dimesión 1 extra indica a Pytorch que esa estructura está en lotes (*batch*), indicando que el tamaño del lote es uno.\n"
      ]
    },
    {
      "cell_type": "code",
      "metadata": {
        "id": "dtyEfy5qa18Q",
        "colab_type": "code",
        "colab": {
          "base_uri": "https://localhost:8080/",
          "height": 510
        },
        "outputId": "4a5dc03e-a7b9-4600-d3e8-e3cae350f297"
      },
      "source": [
        "import torch\n",
        "\n",
        "# Encontrar el indice de una letra en all_letters\n",
        "def letterToIndex(letter):\n",
        "  return all_letters.find(letter)\n",
        "\n",
        "# Construir un vector one-hot letter (Ilustrativo)\n",
        "def letterToTensor(letter):\n",
        "  tensor = torch.zeros(1, n_letters)\n",
        "  tensor[0][letterToIndex(letter)] = 1\n",
        "  return tensor\n",
        "\n",
        "def lineToTensor(line):\n",
        "  tensor = torch.zeros(len(line), 1, n_letters)\n",
        "  for li, letter in enumerate(line):\n",
        "    tensor[li][0][letterToIndex(letter)] = 1\n",
        "\n",
        "  return tensor\n",
        "\n",
        "print(lineToTensor('bekios'))"
      ],
      "execution_count": 25,
      "outputs": [
        {
          "output_type": "stream",
          "text": [
            "tensor([[[0., 1., 0., 0., 0., 0., 0., 0., 0., 0., 0., 0., 0., 0., 0., 0., 0.,\n",
            "          0., 0., 0., 0., 0., 0., 0., 0., 0., 0., 0., 0., 0., 0., 0., 0., 0.,\n",
            "          0., 0., 0., 0., 0., 0., 0., 0., 0., 0., 0., 0., 0., 0., 0., 0., 0.,\n",
            "          0., 0., 0., 0., 0., 0.]],\n",
            "\n",
            "        [[0., 0., 0., 0., 1., 0., 0., 0., 0., 0., 0., 0., 0., 0., 0., 0., 0.,\n",
            "          0., 0., 0., 0., 0., 0., 0., 0., 0., 0., 0., 0., 0., 0., 0., 0., 0.,\n",
            "          0., 0., 0., 0., 0., 0., 0., 0., 0., 0., 0., 0., 0., 0., 0., 0., 0.,\n",
            "          0., 0., 0., 0., 0., 0.]],\n",
            "\n",
            "        [[0., 0., 0., 0., 0., 0., 0., 0., 0., 0., 1., 0., 0., 0., 0., 0., 0.,\n",
            "          0., 0., 0., 0., 0., 0., 0., 0., 0., 0., 0., 0., 0., 0., 0., 0., 0.,\n",
            "          0., 0., 0., 0., 0., 0., 0., 0., 0., 0., 0., 0., 0., 0., 0., 0., 0.,\n",
            "          0., 0., 0., 0., 0., 0.]],\n",
            "\n",
            "        [[0., 0., 0., 0., 0., 0., 0., 0., 1., 0., 0., 0., 0., 0., 0., 0., 0.,\n",
            "          0., 0., 0., 0., 0., 0., 0., 0., 0., 0., 0., 0., 0., 0., 0., 0., 0.,\n",
            "          0., 0., 0., 0., 0., 0., 0., 0., 0., 0., 0., 0., 0., 0., 0., 0., 0.,\n",
            "          0., 0., 0., 0., 0., 0.]],\n",
            "\n",
            "        [[0., 0., 0., 0., 0., 0., 0., 0., 0., 0., 0., 0., 0., 0., 1., 0., 0.,\n",
            "          0., 0., 0., 0., 0., 0., 0., 0., 0., 0., 0., 0., 0., 0., 0., 0., 0.,\n",
            "          0., 0., 0., 0., 0., 0., 0., 0., 0., 0., 0., 0., 0., 0., 0., 0., 0.,\n",
            "          0., 0., 0., 0., 0., 0.]],\n",
            "\n",
            "        [[0., 0., 0., 0., 0., 0., 0., 0., 0., 0., 0., 0., 0., 0., 0., 0., 0.,\n",
            "          0., 1., 0., 0., 0., 0., 0., 0., 0., 0., 0., 0., 0., 0., 0., 0., 0.,\n",
            "          0., 0., 0., 0., 0., 0., 0., 0., 0., 0., 0., 0., 0., 0., 0., 0., 0.,\n",
            "          0., 0., 0., 0., 0., 0.]]])\n"
          ],
          "name": "stdout"
        }
      ]
    },
    {
      "cell_type": "markdown",
      "metadata": {
        "id": "DexIKj84gf4i",
        "colab_type": "text"
      },
      "source": [
        "## 3. Creando la red\n",
        "\n",
        "Antes del *autograd*, la creación de una red neural recurrente en Torch implicaba\n",
        "clonar los parámetros de una capa en varios pasos de tiempo. Las capas\n",
        "mantenían estados y gradientes ocultos que ahora son manejados enteramente por la librería. Esto significa que puedes implementar un RNN de una manera muy \"pura\", como capas regulares de alimentación...\n",
        "\n",
        "Este módulo RNN (en su mayoría copiado de \"The PyTorch for Torch users\")\n",
        "tutorial <https://pytorch.org/tutorials/beginner/former_torchies/\n",
        "nn_tutorial.html#example-2-recurrent-net>`__)\n",
        "son sólo 2 capas lineales que operan en un estado de entrada y oculto, con\n",
        "una capa de LogSoftmax después de la salida.\n",
        "\n",
        "Figura:: https://i.imgur.com/Z2xbySO.png\n",
        "\n",
        "Figura [(softmax)](https://cdn-images-1.medium.com/freeze/max/1000/1*ghDbeGZZUloPOJK7g3OyBg.png?q=20)::\n",
        "\n"
      ]
    },
    {
      "cell_type": "code",
      "metadata": {
        "id": "n2OHMKgOghYc",
        "colab_type": "code",
        "colab": {}
      },
      "source": [
        "import torch.nn as nn\n",
        "\n",
        "class RNN(nn.Module):\n",
        "  def __init__(self, input_size, hidden_size, output_size):\n",
        "    super(RNN, self).__init__()\n",
        "\n",
        "    # Construir componentes\n",
        "    self.hidden_size = hidden_size\n",
        "    # Salida de estado oculto\n",
        "    self.i2h = nn.Linear(input_size + hidden_size, hidden_size)\n",
        "    # Salida a estimar\n",
        "    self.i2o = nn.Linear(input_size + hidden_size, output_size)\n",
        "    self.softmax = nn.LogSoftmax(dim=1)\n",
        "\n",
        "  def forward(self, input, hidden):\n",
        "    combined = torch.cat((input, hidden), 1) # vector --> [1 x (input + hidden)]\n",
        "    hidden = self.i2h(combined)\n",
        "    output = self.i2o(combined)\n",
        "    output = self.softmax(output)\n",
        "    return output, hidden\n",
        "\n",
        "  def initHidden(self):\n",
        "    return torch.zeros(1, self.hidden_size)\n",
        "\n",
        "n_hidden = 128\n",
        "\n",
        "# n_letters --> Cantidad de letras que uso para representar mis palabras (57)\n",
        "# n_hidden --> Tamaño del vector de estado oculto (128)\n",
        "# n_categories --> La cantidad de paises (18)\n",
        "rnn = RNN(n_letters, n_hidden, n_categories)"
      ],
      "execution_count": 26,
      "outputs": []
    },
    {
      "cell_type": "markdown",
      "metadata": {
        "id": "nkxMoHhkjsrU",
        "colab_type": "text"
      },
      "source": [
        "Para ejecutar un paso de esta red necesitamos pasar una entrada (en nuestro caso, el\n",
        "Tensor para la letra actual) y un estado oculto anterior (que nosotros\n",
        "inicializar como ceros al principio). Recuperaremos la salida (probabilidad de\n",
        "cada idioma) y un siguiente estado oculto (que guardamos para el próximo\n",
        "paso)."
      ]
    },
    {
      "cell_type": "code",
      "metadata": {
        "id": "zWiTauhejr5d",
        "colab_type": "code",
        "colab": {
          "base_uri": "https://localhost:8080/",
          "height": 357
        },
        "outputId": "1b0d5db2-4e5a-45f8-a774-65610d9fb958"
      },
      "source": [
        "input = letterToTensor('A')\n",
        "hidden = torch.zeros(1, n_hidden)input = letterToIndex('A')\n",
        "hidden = torch.zeros(1, n_hidden)\n",
        "\n",
        "# Ejecutar el forwardself.softmax(output)\n",
        "output, next_hidden = rnn(input, hidden)\n",
        "\n",
        "print(output)\n",
        "print(next_hidden)\n",
        "\n",
        "####\n",
        "output, next_hidden = rnn(input, hidden)\n",
        "\n",
        "print(output)\n",
        "print(next_hidden)"
      ],
      "execution_count": 33,
      "outputs": [
        {
          "output_type": "stream",
          "text": [
            "tensor([[-2.8582, -2.8930, -2.9205, -2.8857, -2.8981, -2.9994, -2.9075, -2.8071,\n",
            "         -2.8432, -2.9456, -2.7926, -3.0013, -2.8709, -2.8845, -2.8510, -2.8254,\n",
            "         -3.0216, -2.8572]], grad_fn=<LogSoftmaxBackward>)\n",
            "tensor([[-0.0581, -0.0110,  0.0040,  0.0552, -0.0853,  0.0503,  0.0473,  0.0259,\n",
            "          0.0059, -0.0031,  0.0679, -0.0928, -0.1197,  0.0903, -0.0248,  0.0242,\n",
            "          0.0268, -0.0931,  0.0021, -0.1008, -0.0673, -0.0379,  0.1041, -0.0392,\n",
            "          0.0402,  0.0054,  0.0730,  0.1145,  0.0879, -0.0544,  0.0133, -0.0006,\n",
            "         -0.0590,  0.0583, -0.1150,  0.0339, -0.0068, -0.0849,  0.0897,  0.0493,\n",
            "         -0.0802,  0.0823,  0.0784, -0.0848,  0.0144,  0.0507,  0.0566, -0.0283,\n",
            "          0.0571, -0.0872,  0.0114, -0.0187,  0.0283, -0.0185,  0.0253, -0.0073,\n",
            "         -0.0016,  0.0312,  0.0178,  0.0413,  0.0459,  0.0746,  0.1035,  0.0190,\n",
            "          0.0050,  0.0591, -0.0484, -0.0284,  0.0273, -0.0561,  0.0429, -0.0071,\n",
            "          0.0871,  0.0031,  0.0838,  0.0509, -0.1027, -0.0559, -0.0781,  0.0207,\n",
            "         -0.0868, -0.0018,  0.0830, -0.0025,  0.0856,  0.0477,  0.0809, -0.0929,\n",
            "         -0.1097,  0.1193,  0.0097,  0.0626,  0.1072, -0.0083, -0.0253, -0.0259,\n",
            "          0.0799, -0.0032,  0.0557, -0.0513, -0.0253,  0.0979,  0.0262, -0.0122,\n",
            "          0.0770, -0.0933,  0.1057,  0.0544,  0.0231,  0.1174, -0.1084, -0.0238,\n",
            "          0.0041, -0.0208, -0.1056,  0.0150,  0.0655, -0.0123,  0.0596, -0.0017,\n",
            "         -0.0265, -0.0337, -0.0140,  0.0523,  0.0788, -0.0678,  0.0457, -0.0345]],\n",
            "       grad_fn=<AddmmBackward>)\n"
          ],
          "name": "stdout"
        }
      ]
    },
    {
      "cell_type": "markdown",
      "metadata": {
        "id": "4sYVj4Z4kHqJ",
        "colab_type": "text"
      },
      "source": [
        "Para mejorar la eficiencia no queremos crear un nuevo Tensor para\n",
        "cada paso, así que usaremos ``lineToTensor`` en lugar de\n",
        "``letterToTensor`` y usa *slices*. Esto podría ser optimizado aún más por\n",
        "precomputando lotes de Tensores."
      ]
    },
    {
      "cell_type": "code",
      "metadata": {
        "id": "jQfQchKfkX1J",
        "colab_type": "code",
        "colab": {
          "base_uri": "https://localhost:8080/",
          "height": 357
        },
        "outputId": "fc867d64-78ee-48ca-ea62-2b02ddeab4cd"
      },
      "source": [
        "input = letterToTensor('A')\n",
        "hidden = torch.zeros(1, n_hidden)\n",
        "\n",
        "output, next_hidden = rnn(input, hidden)\n",
        "\n",
        "print(output)\n",
        "print(next_hidden)"
      ],
      "execution_count": 34,
      "outputs": [
        {
          "output_type": "stream",
          "text": [
            "tensor([[-2.8582, -2.8930, -2.9205, -2.8857, -2.8981, -2.9994, -2.9075, -2.8071,\n",
            "         -2.8432, -2.9456, -2.7926, -3.0013, -2.8709, -2.8845, -2.8510, -2.8254,\n",
            "         -3.0216, -2.8572]], grad_fn=<LogSoftmaxBackward>)\n",
            "tensor([[-0.0581, -0.0110,  0.0040,  0.0552, -0.0853,  0.0503,  0.0473,  0.0259,\n",
            "          0.0059, -0.0031,  0.0679, -0.0928, -0.1197,  0.0903, -0.0248,  0.0242,\n",
            "          0.0268, -0.0931,  0.0021, -0.1008, -0.0673, -0.0379,  0.1041, -0.0392,\n",
            "          0.0402,  0.0054,  0.0730,  0.1145,  0.0879, -0.0544,  0.0133, -0.0006,\n",
            "         -0.0590,  0.0583, -0.1150,  0.0339, -0.0068, -0.0849,  0.0897,  0.0493,\n",
            "         -0.0802,  0.0823,  0.0784, -0.0848,  0.0144,  0.0507,  0.0566, -0.0283,\n",
            "          0.0571, -0.0872,  0.0114, -0.0187,  0.0283, -0.0185,  0.0253, -0.0073,\n",
            "         -0.0016,  0.0312,  0.0178,  0.0413,  0.0459,  0.0746,  0.1035,  0.0190,\n",
            "          0.0050,  0.0591, -0.0484, -0.0284,  0.0273, -0.0561,  0.0429, -0.0071,\n",
            "          0.0871,  0.0031,  0.0838,  0.0509, -0.1027, -0.0559, -0.0781,  0.0207,\n",
            "         -0.0868, -0.0018,  0.0830, -0.0025,  0.0856,  0.0477,  0.0809, -0.0929,\n",
            "         -0.1097,  0.1193,  0.0097,  0.0626,  0.1072, -0.0083, -0.0253, -0.0259,\n",
            "          0.0799, -0.0032,  0.0557, -0.0513, -0.0253,  0.0979,  0.0262, -0.0122,\n",
            "          0.0770, -0.0933,  0.1057,  0.0544,  0.0231,  0.1174, -0.1084, -0.0238,\n",
            "          0.0041, -0.0208, -0.1056,  0.0150,  0.0655, -0.0123,  0.0596, -0.0017,\n",
            "         -0.0265, -0.0337, -0.0140,  0.0523,  0.0788, -0.0678,  0.0457, -0.0345]],\n",
            "       grad_fn=<AddmmBackward>)\n"
          ],
          "name": "stdout"
        }
      ]
    },
    {
      "cell_type": "code",
      "metadata": {
        "id": "csX8raXEZ7kd",
        "colab_type": "code",
        "colab": {
          "base_uri": "https://localhost:8080/",
          "height": 357
        },
        "outputId": "d5f41560-67d7-4cc4-f4f3-5038eadfb297"
      },
      "source": [
        "input = lineToTensor('Alberto')\n",
        "hidden = torch.zeros(1, n_hidden)\n",
        "\n",
        "output, next_hidden = rnn(input[2], hidden)\n",
        "print(output)\n",
        "print(next_hidden)"
      ],
      "execution_count": 36,
      "outputs": [
        {
          "output_type": "stream",
          "text": [
            "tensor([[-2.9021, -2.9586, -2.9132, -2.8106, -2.8453, -2.9148, -2.8992, -2.8584,\n",
            "         -2.8147, -2.9624, -2.8568, -3.0076, -2.8833, -2.9196, -2.9138, -2.8482,\n",
            "         -2.9123, -2.8301]], grad_fn=<LogSoftmaxBackward>)\n",
            "tensor([[-0.0896, -0.0006, -0.1022, -0.0643,  0.0068, -0.0585, -0.0760,  0.0455,\n",
            "          0.0594,  0.0443, -0.0151, -0.0913, -0.0111, -0.0306, -0.1128,  0.0226,\n",
            "          0.0074,  0.0452,  0.1048, -0.0572, -0.0819, -0.0251,  0.1166, -0.0739,\n",
            "          0.0422,  0.0213,  0.0410,  0.0729,  0.0700, -0.0311, -0.0540, -0.0404,\n",
            "         -0.0507,  0.0044, -0.1166, -0.0124,  0.0408, -0.0316,  0.0366,  0.0102,\n",
            "         -0.0541,  0.0721,  0.0955, -0.0424,  0.1082,  0.0985, -0.0311,  0.0801,\n",
            "         -0.0736, -0.0316, -0.0574, -0.0440,  0.0549,  0.0249, -0.0914,  0.0123,\n",
            "          0.0542,  0.0547, -0.0427, -0.0026,  0.0858,  0.0452,  0.0667,  0.0669,\n",
            "         -0.0231,  0.0112,  0.0223, -0.0183, -0.0768,  0.0143,  0.0185,  0.0662,\n",
            "          0.1063,  0.0229,  0.0166,  0.0490, -0.0138, -0.0315, -0.0047,  0.0419,\n",
            "          0.0199, -0.0914,  0.0093, -0.0934,  0.0449,  0.0061,  0.0432,  0.0103,\n",
            "         -0.0403,  0.0445,  0.0362, -0.0278,  0.0708,  0.0955,  0.0405, -0.0062,\n",
            "          0.0680,  0.0925, -0.0049, -0.0412,  0.0356,  0.0134,  0.0646, -0.0871,\n",
            "          0.0909, -0.0273,  0.0764,  0.0184, -0.0402, -0.0046, -0.1161,  0.0486,\n",
            "          0.0538,  0.1171, -0.0511, -0.0236,  0.0709,  0.0038,  0.1073,  0.0840,\n",
            "          0.1021, -0.0176, -0.0149,  0.0901, -0.0217, -0.0536,  0.0644, -0.0365]],\n",
            "       grad_fn=<AddmmBackward>)\n"
          ],
          "name": "stdout"
        }
      ]
    },
    {
      "cell_type": "markdown",
      "metadata": {
        "id": "DNHadH4skjwB",
        "colab_type": "text"
      },
      "source": [
        "Como puedes ver, la salida es un tensor ``<1 x n_categories>``, donde\n",
        "cada *item* es la probabilidad de esa categoría (más alta es más probable).\n",
        "\n",
        "## 4. Entrenando la red\n",
        "\n",
        "Preparando los datos\n",
        "--------------------\n",
        "\n",
        "Antes de entrar en el entrenamiento debemos hacer algunas funciones de ayuda. La primera es interpretar el resultado de la red, que sabemos que es una probabilidad de cada categoría. Podemos usar Tensor.topk para obtener el índice de mayor valor:"
      ]
    },
    {
      "cell_type": "code",
      "metadata": {
        "id": "3atWo1eXNl68",
        "colab_type": "code",
        "colab": {
          "base_uri": "https://localhost:8080/",
          "height": 34
        },
        "outputId": "60996a3f-f747-47b9-d908-2181ecda7a7c"
      },
      "source": [
        "def categoryFromOutput(output):\n",
        "  top_n, top_i = output.topk(1)\n",
        "  category_i = top_i[0].item()\n",
        "  return all_categories[category_i], category_i\n",
        "\n",
        "print(categoryFromOutput(output))"
      ],
      "execution_count": 37,
      "outputs": [
        {
          "output_type": "stream",
          "text": [
            "('Korean', 3)\n"
          ],
          "name": "stdout"
        }
      ]
    },
    {
      "cell_type": "markdown",
      "metadata": {
        "id": "OI1PH7pPNyVk",
        "colab_type": "text"
      },
      "source": [
        "También queremos una forma rápida de obtener un ejemplo de entrenamiento (un nombre y su\n",
        "idioma):"
      ]
    },
    {
      "cell_type": "code",
      "metadata": {
        "id": "9owXNOWBN3Cs",
        "colab_type": "code",
        "colab": {
          "base_uri": "https://localhost:8080/",
          "height": 394
        },
        "outputId": "2ff27230-14bb-48f6-f1ee-849c06fa04f9"
      },
      "source": [
        "import random\n",
        "\n",
        "# Elige un elemento de lista en forma aleatoria\n",
        "def randomChoice(lista):\n",
        "  return lista[random.randint(0, len(lista)-1)]\n",
        "\n",
        "def randomTrainingExample():\n",
        "  category = randomChoice(all_categories)\n",
        "  # Selecciono la palabra (nombre) de una categoria\n",
        "  line = randomChoice(category_lines[category])\n",
        "  # Convertir tensores\n",
        "  category_tensor = torch.tensor([all_categories.index(category)], dtype=torch.long)\n",
        "  line_tensor = lineToTensor(line)\n",
        "  return category, line, category_tensor, line_tensor\n",
        "\n",
        "print(all_categories)\n",
        "for i in range(20):\n",
        "  category, line, category_tensor, line_tensor = randomTrainingExample()\n",
        "  print('categoria=', category, '/ palabra=', line)"
      ],
      "execution_count": 42,
      "outputs": [
        {
          "output_type": "stream",
          "text": [
            "['Vietnamese', 'Spanish', 'Japanese', 'Korean', 'English', 'Scottish', 'German', 'Irish', 'Chinese', 'Polish', 'Italian', 'Russian', 'Dutch', 'Portuguese', 'French', 'Czech', 'Arabic', 'Greek']\n",
            "categoria= Korean / palabra= Wang\n",
            "categoria= Portuguese / palabra= Silva\n",
            "categoria= French / palabra= Tailler\n",
            "categoria= Scottish / palabra= Clark\n",
            "categoria= Dutch / palabra= Kikkert\n",
            "categoria= Chinese / palabra= Mei\n",
            "categoria= German / palabra= Everhart\n",
            "categoria= Irish / palabra= Murchadh\n",
            "categoria= Japanese / palabra= Okumura\n",
            "categoria= Chinese / palabra= Thien\n",
            "categoria= Irish / palabra= Maille\n",
            "categoria= Korean / palabra= Ri\n",
            "categoria= Korean / palabra= Suh\n",
            "categoria= Vietnamese / palabra= Giang\n",
            "categoria= Italian / palabra= Altoviti\n",
            "categoria= German / palabra= Martin\n",
            "categoria= Greek / palabra= Stamatelos\n",
            "categoria= Scottish / palabra= Henderson\n",
            "categoria= Japanese / palabra= Yoshifumi\n",
            "categoria= Irish / palabra= Cathasach\n"
          ],
          "name": "stdout"
        }
      ]
    },
    {
      "cell_type": "markdown",
      "metadata": {
        "id": "2fN8ruQMOBtN",
        "colab_type": "text"
      },
      "source": [
        "Entrenamiento de la red\n",
        "--------------------\n",
        "\n",
        "Ahora todo lo que se necesita para entrenar a esta red es mostrarle un montón de ejemplos.\n",
        "\n",
        "Para la función de pérdida `n.NLLLoss` es apropiado, ya que la última\n",
        "La capa del RNN es `nn.LogSoftmax`."
      ]
    },
    {
      "cell_type": "code",
      "metadata": {
        "id": "ZRP2IuHrOSTQ",
        "colab_type": "code",
        "colab": {}
      },
      "source": [
        "criterion = nn.NLLLoss()"
      ],
      "execution_count": 46,
      "outputs": []
    },
    {
      "cell_type": "markdown",
      "metadata": {
        "id": "J6zoXfiPOW7s",
        "colab_type": "text"
      },
      "source": [
        "Cada ciclo de entrenamiento hará:\n",
        "\n",
        "1. Crear tensores de entrada y de destino\n",
        "\n",
        "2. Crear un estado inicial oculto igual a cero\n",
        "\n",
        "3. Leer cada letra y mantener el estado oculto para la próxima letra.\n",
        "\n",
        "4. Comparar el resultado final con el objetivo\n",
        "\n",
        "5. *Back-propagate*\n",
        "\n",
        "6. Devolver la salida y la pérdida"
      ]
    },
    {
      "cell_type": "code",
      "metadata": {
        "id": "FdPmWvvoPHpV",
        "colab_type": "code",
        "colab": {}
      },
      "source": [
        "learning_rate = 0.005\n",
        "\n",
        "def train(category_tensor, line_tensor):\n",
        "  # Inicializar la capa hidden en cero\n",
        "  hidden = rnn.initHidden()\n",
        "\n",
        "  rnn.zero_grad()\n",
        "\n",
        "  for i in range(line_tensor.size()[0]):\n",
        "    output, hidden = rnn(line_tensor[i], hidden)\n",
        "\n",
        "  loss = criterion(output, category_tensor)\n",
        "  loss.backward()\n",
        "\n",
        "  # Actualizar los parametros del modelo\n",
        "  for p in rnn.parameters():\n",
        "    p.data.add_(p.grad.data, alpha=-learning_rate)\n",
        "\n",
        "  return output, loss.item()"
      ],
      "execution_count": 45,
      "outputs": []
    },
    {
      "cell_type": "markdown",
      "metadata": {
        "id": "x8idXbiLPMCt",
        "colab_type": "text"
      },
      "source": [
        "Ahora sólo tenemos que correr esto con un montón de ejemplos. Como la función del entrenamiento devuelve tanto la salida como la pérdida, podemos imprimir sus predicciones y también llevar la cuenta de la pérdida. Ya que hay miles de ejemplos, imprimimos sólo cada uno de ellos y tomamos un promedio de la pérdida."
      ]
    },
    {
      "cell_type": "code",
      "metadata": {
        "id": "hsSnEVMnPmjF",
        "colab_type": "code",
        "colab": {
          "base_uri": "https://localhost:8080/",
          "height": 357
        },
        "outputId": "0d097d6d-6e6c-4035-92ad-1cfa5b7065b6"
      },
      "source": [
        "import time\n",
        "import math\n",
        "\n",
        "n_iters = 100000\n",
        "print_every = 5000\n",
        "plot_every = 1000\n",
        "\n",
        "# Guardamos la perdida\n",
        "current_loss = 0\n",
        "all_losses = []\n",
        "\n",
        "def timeSince(since):\n",
        "  now = time.time()\n",
        "  s = now -since\n",
        "  m = math.floor(s/60)\n",
        "  s -= m *60\n",
        "  return '%dm %ds' % (m, s)\n",
        "\n",
        "start = time.time()\n",
        "\n",
        "for iter in range(1, n_iters + 1):\n",
        "  # Obtener una categoria y una palabra de forma aleatoria\n",
        "  category, line, category_tensor, line_tensor = randomTrainingExample()\n",
        "  output, loss = train(category_tensor, line_tensor)\n",
        "  current_loss += loss\n",
        "\n",
        "  # Imprimir los resultados\n",
        "  if iter % print_every == 0: \n",
        "    guess, guess_i = categoryFromOutput(output)\n",
        "    correct = 'OK' if guess == category else 'ERROR (%s)' % category\n",
        "    print('%d %d%% (%s) %.4f %s / %s %s' % (iter, iter/n_iters * 100, timeSince(start),loss, line, guess, correct))\n",
        "\n",
        "  if iter % plot_every == 0:\n",
        "    all_losses.append(current_loss / plot_every)\n",
        "    current_loss = 0"
      ],
      "execution_count": 48,
      "outputs": [
        {
          "output_type": "stream",
          "text": [
            "5000 5% (0m 5s) 2.6917 Seaghdha / Japanese ERROR (Irish)\n",
            "10000 10% (0m 9s) 1.6037 Alescio / Italian OK\n",
            "15000 15% (0m 15s) 2.5100 Calabrese / French ERROR (Italian)\n",
            "20000 20% (0m 19s) 2.9965 Foong / Vietnamese ERROR (Chinese)\n",
            "25000 25% (0m 24s) 2.2321 O'Dowd / French ERROR (Irish)\n",
            "30000 30% (0m 30s) 1.0761 Ahn / Korean OK\n",
            "35000 35% (0m 34s) 1.6784 Montgomery / Dutch ERROR (English)\n",
            "40000 40% (0m 40s) 2.5169 Paris / Greek ERROR (French)\n",
            "45000 45% (0m 44s) 1.0932 AuYong / Chinese OK\n",
            "50000 50% (0m 49s) 1.7988 Cormac / Irish OK\n",
            "55000 55% (0m 55s) 0.6324 an / Vietnamese OK\n",
            "60000 60% (1m 0s) 0.4420 Yep / Chinese OK\n",
            "65000 65% (1m 4s) 0.1401 Quang / Vietnamese OK\n",
            "70000 70% (1m 9s) 2.4103 Victor / English ERROR (Czech)\n",
            "75000 75% (1m 14s) 4.3633 Thomas / Greek ERROR (French)\n",
            "80000 80% (1m 19s) 0.2009 Ferrari / Italian OK\n",
            "85000 85% (1m 24s) 1.7135 Ramsey / French ERROR (English)\n",
            "90000 90% (1m 29s) 3.0219 Kara / Japanese ERROR (Czech)\n",
            "95000 95% (1m 34s) 1.5923 Duarte / French ERROR (Portuguese)\n",
            "100000 100% (1m 38s) 0.5600 Mozdzierz / Polish OK\n"
          ],
          "name": "stdout"
        }
      ]
    },
    {
      "cell_type": "markdown",
      "metadata": {
        "id": "TkGnsConPpG1",
        "colab_type": "text"
      },
      "source": [
        "## 5. Graficando los resultados\n",
        "\n",
        "Graficar la pérdida histórica de `all_loses` muestra el aprendizaje de la red."
      ]
    },
    {
      "cell_type": "code",
      "metadata": {
        "id": "okJbnsOeP8S2",
        "colab_type": "code",
        "colab": {
          "base_uri": "https://localhost:8080/",
          "height": 282
        },
        "outputId": "66a6ac6f-f7e4-4ccb-914d-17da26ee8293"
      },
      "source": [
        "import matplotlib.pyplot as plt\n",
        "import matplotlib.ticker as ticker\n",
        "\n",
        "plt.figure()\n",
        "plt.plot(all_losses)"
      ],
      "execution_count": 49,
      "outputs": [
        {
          "output_type": "execute_result",
          "data": {
            "text/plain": [
              "[<matplotlib.lines.Line2D at 0x7f169328c5f8>]"
            ]
          },
          "metadata": {
            "tags": []
          },
          "execution_count": 49
        },
        {
          "output_type": "display_data",
          "data": {
            "image/png": "[encoded data removed]",
            "text/plain": [
              "<Figure size 432x288 with 1 Axes>"
            ]
          },
          "metadata": {
            "tags": [],
            "needs_background": "light"
          }
        }
      ]
    },
    {
      "cell_type": "markdown",
      "metadata": {
        "id": "ghIyV3qMQBul",
        "colab_type": "text"
      },
      "source": [
        "# 6. Evaluando los resultados\n",
        "\n",
        "Para ver cómo funciona la red en diferentes categorías, vamos a\n",
        "crear una **matriz de confusión**, indicando para cada idioma real (filas)\n",
        "qué idioma adivina la red (columnas). Para calcular la confusión\n",
        "matriz un montón de muestras se ejecutan a través de la red con\n",
        "`Evaluar`, que es lo mismo que `Entrenar`, menos el respaldo."
      ]
    },
    {
      "cell_type": "code",
      "metadata": {
        "id": "Nvw2_qg-QY3G",
        "colab_type": "code",
        "colab": {
          "base_uri": "https://localhost:8080/",
          "height": 320
        },
        "outputId": "f21e8435-9a47-4df9-f990-a39be6cc2370"
      },
      "source": [
        "# Keep track of correct guesses in a confusion matrix\n",
        "confusion = torch.zeros(n_categories, n_categories)\n",
        "n_confusion = 10000\n",
        "\n",
        "# Just return an output given a line\n",
        "def evaluate(line_tensor):\n",
        "    hidden = rnn.initHidden()\n",
        "\n",
        "    for i in range(line_tensor.size()[0]):\n",
        "        output, hidden = rnn(line_tensor[i], hidden)\n",
        "\n",
        "    return output\n",
        "\n",
        "# Go through a bunch of examples and record which are correctly guessed\n",
        "for i in range(n_confusion):\n",
        "    category, line, category_tensor, line_tensor = randomTrainingExample()\n",
        "    output = evaluate(line_tensor)\n",
        "    guess, guess_i = categoryFromOutput(output)\n",
        "    category_i = all_categories.index(category)\n",
        "    confusion[category_i][guess_i] += 1\n",
        "\n",
        "# Normalize by dividing every row by its sum\n",
        "for i in range(n_categories):\n",
        "    confusion[i] = confusion[i] / confusion[i].sum()\n",
        "\n",
        "# Set up plot\n",
        "fig = plt.figure()\n",
        "ax = fig.add_subplot(111)\n",
        "cax = ax.matshow(confusion.numpy())\n",
        "fig.colorbar(cax)\n",
        "\n",
        "# Set up axes\n",
        "ax.set_xticklabels([''] + all_categories, rotation=90)\n",
        "ax.set_yticklabels([''] + all_categories)\n",
        "\n",
        "# Force label at every tick\n",
        "ax.xaxis.set_major_locator(ticker.MultipleLocator(1))\n",
        "ax.yaxis.set_major_locator(ticker.MultipleLocator(1))\n",
        "\n",
        "# sphinx_gallery_thumbnail_number = 2\n",
        "plt.show()"
      ],
      "execution_count": 50,
      "outputs": [
        {
          "output_type": "display_data",
          "data": {
            "image/png": "[encoded data removed]",
            "text/plain": [
              "<Figure size 432x288 with 2 Axes>"
            ]
          },
          "metadata": {
            "tags": [],
            "needs_background": "light"
          }
        }
      ]
    },
    {
      "cell_type": "markdown",
      "metadata": {
        "id": "676JMowHQdNN",
        "colab_type": "text"
      },
      "source": [
        "Puedes elegir los puntos más brillantes en el eje principal que muestren qué\n",
        "idiomas que adivina incorrectamente, por ejemplo, el chino para el coreano, y el español para el italiano. Parece que le va muy bien con el griego, y muy mal con Inglés (tal vez debido a la superposición con otros idiomas)."
      ]
    },
    {
      "cell_type": "code",
      "metadata": {
        "id": "HkdPiWitQugn",
        "colab_type": "code",
        "colab": {
          "base_uri": "https://localhost:8080/",
          "height": 357
        },
        "outputId": "68e142f1-1438-497f-e333-adf3e28e701a"
      },
      "source": [
        "def predict(input_line, n_predictions=3):\n",
        "    print('\\n> %s' % input_line)\n",
        "    with torch.no_grad():\n",
        "        output = evaluate(lineToTensor(input_line))\n",
        "\n",
        "        # Get top N categories\n",
        "        topv, topi = output.topk(n_predictions, 1, True)\n",
        "        predictions = []\n",
        "\n",
        "        for i in range(n_predictions):\n",
        "            value = topv[0][i].item()\n",
        "            category_index = topi[0][i].item()\n",
        "            print('(%.2f) %s' % (value, all_categories[category_index]))\n",
        "            predictions.append([value, all_categories[category_index]])\n",
        "\n",
        "predict('Dovesky')\n",
        "predict('Jackson')\n",
        "predict('Satoshi')\n",
        "predict('Bekios')"
      ],
      "execution_count": 51,
      "outputs": [
        {
          "output_type": "stream",
          "text": [
            "\n",
            "> Dovesky\n",
            "(-0.15) Russian\n",
            "(-2.72) Czech\n",
            "(-3.50) Polish\n",
            "\n",
            "> Jackson\n",
            "(-0.24) Scottish\n",
            "(-2.05) English\n",
            "(-3.58) Russian\n",
            "\n",
            "> Satoshi\n",
            "(-1.07) Japanese\n",
            "(-1.14) Arabic\n",
            "(-1.69) Italian\n",
            "\n",
            "> Bekios\n",
            "(-0.03) Greek\n",
            "(-5.17) Russian\n",
            "(-5.19) English\n"
          ],
          "name": "stdout"
        }
      ]
    },
    {
      "cell_type": "markdown",
      "metadata": {
        "id": "dXkRhsgbQ98e",
        "colab_type": "text"
      },
      "source": [
        "La versión completa del código la pueden revisar en <https://github.com/spro/practical-pytorch/tree/master/char-rnn-classification>`"
      ]
    }
  ]
}