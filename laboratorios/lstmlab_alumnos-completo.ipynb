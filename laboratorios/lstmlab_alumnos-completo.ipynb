{
  "nbformat": 4,
  "nbformat_minor": 0,
  "metadata": {
    "colab": {
      "name": "lstmlab-alumnos.ipynb",
      "provenance": [],
      "collapsed_sections": [],
      "toc_visible": true
    },
    "kernelspec": {
      "name": "python3",
      "display_name": "Python 3"
    },
    "accelerator": "GPU"
  },
  "cells": [
    {
      "cell_type": "markdown",
      "metadata": {
        "id": "MdpTzX4opcsg",
        "colab_type": "text"
      },
      "source": [
        "# Laboratorio 7: Redes LSTM\n",
        "\n",
        "Construiremos dos ejemplos de redes neuronales recurrentes utilizando LSTM.\n",
        "\n",
        "## 1. Descargar las base de datos de dos series de tiempo"
      ]
    },
    {
      "cell_type": "code",
      "metadata": {
        "id": "J_4ts-lupX4W",
        "colab_type": "code",
        "colab": {
          "base_uri": "https://localhost:8080/",
          "height": 391
        },
        "outputId": "12a6ffb5-f473-4ead-ba41-2b9ae32c5260"
      },
      "source": [
        "#https://machinelearningmastery.com/time-series-forecasting-long-short-term-memory-network-python/\n",
        "!wget https://raw.githubusercontent.com/jbrownlee/Datasets/master/shampoo.csv\n",
        "#https://machinelearningmastery.com/time-series-prediction-lstm-recurrent-neural-networks-python-keras/\n",
        "!wget https://raw.githubusercontent.com/jbrownlee/Datasets/master/airline-passengers.csv"
      ],
      "execution_count": 1,
      "outputs": [
        {
          "output_type": "stream",
          "text": [
            "--2020-08-27 01:20:58--  https://raw.githubusercontent.com/jbrownlee/Datasets/master/shampoo.csv\n",
            "Resolving raw.githubusercontent.com (raw.githubusercontent.com)... 151.101.0.133, 151.101.64.133, 151.101.128.133, ...\n",
            "Connecting to raw.githubusercontent.com (raw.githubusercontent.com)|151.101.0.133|:443... connected.\n",
            "HTTP request sent, awaiting response... 200 OK\n",
            "Length: 519 [text/plain]\n",
            "Saving to: ‘shampoo.csv’\n",
            "\n",
            "\rshampoo.csv           0%[                    ]       0  --.-KB/s               \rshampoo.csv         100%[===================>]     519  --.-KB/s    in 0s      \n",
            "\n",
            "2020-08-27 01:20:58 (12.3 MB/s) - ‘shampoo.csv’ saved [519/519]\n",
            "\n",
            "--2020-08-27 01:20:58--  https://raw.githubusercontent.com/jbrownlee/Datasets/master/airline-passengers.csv\n",
            "Resolving raw.githubusercontent.com (raw.githubusercontent.com)... 151.101.0.133, 151.101.64.133, 151.101.128.133, ...\n",
            "Connecting to raw.githubusercontent.com (raw.githubusercontent.com)|151.101.0.133|:443... connected.\n",
            "HTTP request sent, awaiting response... 200 OK\n",
            "Length: 2180 (2.1K) [text/plain]\n",
            "Saving to: ‘airline-passengers.csv’\n",
            "\n",
            "airline-passengers. 100%[===================>]   2.13K  --.-KB/s    in 0s      \n",
            "\n",
            "2020-08-27 01:20:58 (59.6 MB/s) - ‘airline-passengers.csv’ saved [2180/2180]\n",
            "\n"
          ],
          "name": "stdout"
        }
      ]
    },
    {
      "cell_type": "markdown",
      "metadata": {
        "id": "MZIOpQZzkLVk",
        "colab_type": "text"
      },
      "source": [
        "## 2. Cargar librerías"
      ]
    },
    {
      "cell_type": "code",
      "metadata": {
        "id": "hG4h29npwRKh",
        "colab_type": "code",
        "colab": {}
      },
      "source": [
        "import numpy as np\n",
        "import matplotlib.pyplot as plt\n",
        "import pandas as pd\n",
        "import torch\n",
        "import torch.nn as nn\n",
        "from sklearn.preprocessing import MinMaxScaler"
      ],
      "execution_count": 8,
      "outputs": []
    },
    {
      "cell_type": "markdown",
      "metadata": {
        "id": "UazvgdgrkSRQ",
        "colab_type": "text"
      },
      "source": [
        "## 3. Cargando y revisando los datos de pasajeros de una aerolínea\n",
        "\n",
        "Leer los datos utilizando Pandas."
      ]
    },
    {
      "cell_type": "code",
      "metadata": {
        "id": "t6xTMPn6wkdT",
        "colab_type": "code",
        "colab": {
          "base_uri": "https://localhost:8080/",
          "height": 204
        },
        "outputId": "34aa06ff-00ed-4706-ff20-845e04f31100"
      },
      "source": [
        "training_set = pd.read_csv('/content/airline-passengers.csv')\n",
        "\n",
        "training_set.head()"
      ],
      "execution_count": 12,
      "outputs": [
        {
          "output_type": "execute_result",
          "data": {
            "text/html": [
              "<div>\n",
              "<style scoped>\n",
              "    .dataframe tbody tr th:only-of-type {\n",
              "        vertical-align: middle;\n",
              "    }\n",
              "\n",
              "    .dataframe tbody tr th {\n",
              "        vertical-align: top;\n",
              "    }\n",
              "\n",
              "    .dataframe thead th {\n",
              "        text-align: right;\n",
              "    }\n",
              "</style>\n",
              "<table border=\"1\" class=\"dataframe\">\n",
              "  <thead>\n",
              "    <tr style=\"text-align: right;\">\n",
              "      <th></th>\n",
              "      <th>Month</th>\n",
              "      <th>Passengers</th>\n",
              "    </tr>\n",
              "  </thead>\n",
              "  <tbody>\n",
              "    <tr>\n",
              "      <th>0</th>\n",
              "      <td>1949-01</td>\n",
              "      <td>112</td>\n",
              "    </tr>\n",
              "    <tr>\n",
              "      <th>1</th>\n",
              "      <td>1949-02</td>\n",
              "      <td>118</td>\n",
              "    </tr>\n",
              "    <tr>\n",
              "      <th>2</th>\n",
              "      <td>1949-03</td>\n",
              "      <td>132</td>\n",
              "    </tr>\n",
              "    <tr>\n",
              "      <th>3</th>\n",
              "      <td>1949-04</td>\n",
              "      <td>129</td>\n",
              "    </tr>\n",
              "    <tr>\n",
              "      <th>4</th>\n",
              "      <td>1949-05</td>\n",
              "      <td>121</td>\n",
              "    </tr>\n",
              "  </tbody>\n",
              "</table>\n",
              "</div>"
            ],
            "text/plain": [
              "     Month  Passengers\n",
              "0  1949-01         112\n",
              "1  1949-02         118\n",
              "2  1949-03         132\n",
              "3  1949-04         129\n",
              "4  1949-05         121"
            ]
          },
          "metadata": {
            "tags": []
          },
          "execution_count": 12
        }
      ]
    },
    {
      "cell_type": "markdown",
      "metadata": {
        "id": "IEdGR-pBkqyX",
        "colab_type": "text"
      },
      "source": [
        "Graficamos los datos."
      ]
    },
    {
      "cell_type": "code",
      "metadata": {
        "id": "ZYc1vCiewVuV",
        "colab_type": "code",
        "colab": {
          "base_uri": "https://localhost:8080/",
          "height": 294
        },
        "outputId": "ae63bea9-b8d2-447d-9b07-35ef528bb025"
      },
      "source": [
        "training_set = training_set.iloc[:, 1:2].values\n",
        "\n",
        "plt.plot(training_set)\n",
        "plt.suptitle('Cantidad de pasajeros')\n",
        "plt.show()"
      ],
      "execution_count": 13,
      "outputs": [
        {
          "output_type": "display_data",
          "data": {
            "image/png": "[encoded data removed]",
            "text/plain": [
              "<Figure size 432x288 with 1 Axes>"
            ]
          },
          "metadata": {
            "tags": [],
            "needs_background": "light"
          }
        }
      ]
    },
    {
      "cell_type": "markdown",
      "metadata": {
        "id": "184k2-2zxj6K",
        "colab_type": "text"
      },
      "source": [
        "## 4. Creación de ventana deslizante\n",
        "\n",
        "Creamos una ventana deslizante, dada una secuencia de tamaño n se desea predecir el siguiente punto."
      ]
    },
    {
      "cell_type": "code",
      "metadata": {
        "id": "zW0HnSJEwirP",
        "colab_type": "code",
        "colab": {}
      },
      "source": [
        "def sliding_windows(data, seq_length):\n",
        "    x = []\n",
        "    y = []\n",
        "\n",
        "    for i in range(len(data)-seq_length-1):\n",
        "        _x = data[i:(i+seq_length)]\n",
        "        _y = data[i+seq_length]\n",
        "        x.append(_x)\n",
        "        y.append(_y)\n",
        "\n",
        "    return np.array(x),np.array(y)\n",
        "#escalamos los datos\n",
        "sc = MinMaxScaler()\n",
        "training_data = sc.fit_transform(training_set)\n",
        "\n",
        "seq_length = 4\n",
        "x, y = sliding_windows(training_data, seq_length)"
      ],
      "execution_count": 14,
      "outputs": []
    },
    {
      "cell_type": "markdown",
      "metadata": {
        "id": "H1OvjDAa07Qd",
        "colab_type": "text"
      },
      "source": [
        "## 5. Seleccionamos datos de entrenamiento y validación\n",
        "\n",
        "Creamos dos particiones una de entrenamiento y otra de validación. Donde esta última, son los datos después de cierta fecha."
      ]
    },
    {
      "cell_type": "code",
      "metadata": {
        "id": "uw8vRTzAxcW4",
        "colab_type": "code",
        "colab": {}
      },
      "source": [
        "device = torch.device('cuda:0' if torch.cuda.is_available() else 'cpu')\n",
        "\n",
        "# Conjunto de entrenamiento\n",
        "train_size = int(len(y) * 0.67)\n",
        "# Conjunto validacion\n",
        "val_size = len(y) - train_size\n",
        "\n",
        "x_train = torch.tensor(x[0:train_size],device=device)\n",
        "y_train = torch.tensor(y[0:train_size],device=device)\n",
        "x_val = torch.tensor(x[val_size:],device=device)\n",
        "y_val = torch.tensor(y[val_size:],device=device)\n",
        "\n",
        "x = torch.tensor(x,device=device)\n",
        "y = torch.tensor(y,device=device)"
      ],
      "execution_count": 15,
      "outputs": []
    },
    {
      "cell_type": "markdown",
      "metadata": {
        "id": "VwKolpVq1LeI",
        "colab_type": "text"
      },
      "source": [
        "Modelo"
      ]
    },
    {
      "cell_type": "code",
      "metadata": {
        "id": "9iXndWOj0Y3u",
        "colab_type": "code",
        "colab": {}
      },
      "source": [
        "class LSTM(nn.Module):\n",
        "    def __init__(self, num_classes, input_size, hidden_size, num_layers):\n",
        "        super(LSTM, self).__init__()\n",
        "        self.num_classes = num_classes\n",
        "        self.num_layers = num_layers\n",
        "        self.input_size = input_size\n",
        "        self.hidden_size = hidden_size\n",
        "        self.seq_length = seq_length\n",
        "        \n",
        "        self.lstm = nn.LSTM(input_size=input_size, hidden_size=hidden_size,\n",
        "                            num_layers=num_layers, batch_first=True)\n",
        "        \n",
        "        self.fc = nn.Linear(hidden_size, num_classes)\n",
        "\n",
        "    def forward(self, x):    \n",
        "      ula, (h_n, _) = self.lstm(x)\n",
        "      h_n = h_n.view(-1, self.hidden_size)\n",
        "      out = self.fc(h_n)\n",
        "\n",
        "      return out"
      ],
      "execution_count": 16,
      "outputs": []
    },
    {
      "cell_type": "code",
      "metadata": {
        "id": "VeGyXxOa1XRF",
        "colab_type": "code",
        "colab": {
          "base_uri": "https://localhost:8080/",
          "height": 357
        },
        "outputId": "fecbeb93-797b-48e5-d95e-4008f55e23b5"
      },
      "source": [
        "num_epochs = 2000\n",
        "learning_rate = 0.01\n",
        "\n",
        "input_size = 1\n",
        "hidden_size = 2\n",
        "num_layers = 1\n",
        "\n",
        "num_classes = 1\n",
        "\n",
        "#por defecto se crea una lstm con precision de 16bit, en pytorch 1.6.0 hay un bug que no permite el uso de 16bit con lstm\n",
        "#pasamos la red a doble precision\n",
        "lstm = LSTM(num_classes, input_size, hidden_size, num_layers).to(device).double()\n",
        "\n",
        "\n",
        "criterion = torch.nn.MSELoss() \n",
        "optimizer = torch.optim.Adam(lstm.parameters(), lr=learning_rate)\n",
        "\n",
        "# Entrenamiento\n",
        "for epoch in range(num_epochs):\n",
        "    outputs = lstm(x_train)\n",
        "    optimizer.zero_grad()\n",
        "    loss = criterion(outputs, y_train)\n",
        "    loss.backward()\n",
        "    optimizer.step()\n",
        "    if epoch % 100 == 0:\n",
        "      print(\"Epoch: %d, loss: %1.5f\" % (epoch, loss.item()))"
      ],
      "execution_count": 17,
      "outputs": [
        {
          "output_type": "stream",
          "text": [
            "Epoch: 0, loss: 0.06237\n",
            "Epoch: 100, loss: 0.01206\n",
            "Epoch: 200, loss: 0.00275\n",
            "Epoch: 300, loss: 0.00203\n",
            "Epoch: 400, loss: 0.00170\n",
            "Epoch: 500, loss: 0.00166\n",
            "Epoch: 600, loss: 0.00164\n",
            "Epoch: 700, loss: 0.00162\n",
            "Epoch: 800, loss: 0.00161\n",
            "Epoch: 900, loss: 0.00159\n",
            "Epoch: 1000, loss: 0.00158\n",
            "Epoch: 1100, loss: 0.00157\n",
            "Epoch: 1200, loss: 0.00157\n",
            "Epoch: 1300, loss: 0.00156\n",
            "Epoch: 1400, loss: 0.00156\n",
            "Epoch: 1500, loss: 0.00155\n",
            "Epoch: 1600, loss: 0.00155\n",
            "Epoch: 1700, loss: 0.00155\n",
            "Epoch: 1800, loss: 0.00154\n",
            "Epoch: 1900, loss: 0.00154\n"
          ],
          "name": "stdout"
        }
      ]
    },
    {
      "cell_type": "markdown",
      "metadata": {
        "id": "aVLWoOs93k_C",
        "colab_type": "text"
      },
      "source": [
        "Vemos el resultado sobre el set de datos"
      ]
    },
    {
      "cell_type": "code",
      "metadata": {
        "id": "bpUbeqv31gRT",
        "colab_type": "code",
        "colab": {
          "base_uri": "https://localhost:8080/",
          "height": 294
        },
        "outputId": "e4ed810b-41e2-4e9b-880c-6aa49511c78d"
      },
      "source": [
        "lstm.eval()\n",
        "train_predict = lstm(x)\n",
        "\n",
        "data_predict = train_predict.cpu().data.numpy()\n",
        "dataY_plot = y.cpu().data.numpy()\n",
        "\n",
        "data_predict = sc.inverse_transform(data_predict)\n",
        "dataY_plot = sc.inverse_transform(dataY_plot)\n",
        "#Dibujamos una linea roja que nos dira cuando comienza el set de validacion\n",
        "plt.axvline(x=train_size, c='r', linestyle='--')\n",
        "\n",
        "plt.plot(dataY_plot)\n",
        "plt.plot(data_predict)\n",
        "plt.suptitle('Prediccion de la serie de tiempo')\n",
        "plt.show()"
      ],
      "execution_count": 18,
      "outputs": [
        {
          "output_type": "display_data",
          "data": {
            "image/png": "[encoded data removed]",
            "text/plain": [
              "<Figure size 432x288 with 1 Axes>"
            ]
          },
          "metadata": {
            "tags": [],
            "needs_background": "light"
          }
        }
      ]
    },
    {
      "cell_type": "markdown",
      "metadata": {
        "id": "jRsZ-00J4w2Y",
        "colab_type": "text"
      },
      "source": [
        "# Laboratorio: Base de datos Shampoo"
      ]
    },
    {
      "cell_type": "code",
      "metadata": {
        "id": "EALyv_ZC3qUx",
        "colab_type": "code",
        "colab": {}
      },
      "source": [
        "training_set = pd.read_csv('shampoo.csv')\n",
        "training_set.head()"
      ],
      "execution_count": null,
      "outputs": []
    },
    {
      "cell_type": "code",
      "metadata": {
        "id": "Z8HTELnK4cLK",
        "colab_type": "code",
        "colab": {}
      },
      "source": [
        "training_set = training_set.iloc[:,1:2].values\n",
        "plt.plot(training_set )\n",
        "plt.suptitle('Ventas de shampoo')\n",
        "plt.show()"
      ],
      "execution_count": null,
      "outputs": []
    },
    {
      "cell_type": "code",
      "metadata": {
        "id": "bEqNLLQ35but",
        "colab_type": "code",
        "colab": {}
      },
      "source": [
        "sc = MinMaxScaler()\n",
        "training_data = sc.fit_transform(training_set)\n",
        "seq_length = 4\n",
        "x, y = sliding_windows(training_data, seq_length)"
      ],
      "execution_count": null,
      "outputs": []
    },
    {
      "cell_type": "code",
      "metadata": {
        "id": "AD3ULRfy5kSK",
        "colab_type": "code",
        "colab": {}
      },
      "source": [
        "device = torch.device('cuda:0' if torch.cuda.is_available() else 'cpu')\n",
        "\n",
        "train_size = int(len(y) * 0.67)\n",
        "val_size = len(y) - train_size\n",
        "\n",
        "x_train = torch.tensor(x[0:train_size],device=device)\n",
        "y_train = torch.tensor(y[0:train_size],device=device)\n",
        "x_val = torch.tensor(x[val_size:],device=device)\n",
        "y_val = torch.tensor(y[val_size:],device=device)\n",
        "\n",
        "x = torch.tensor(x,device=device)\n",
        "y = torch.tensor(y,device=device)\n"
      ],
      "execution_count": null,
      "outputs": []
    },
    {
      "cell_type": "code",
      "metadata": {
        "id": "SwaSn1rE5pzD",
        "colab_type": "code",
        "colab": {}
      },
      "source": [
        "num_epochs = 2000\n",
        "learning_rate = 0.01\n",
        "\n",
        "input_size = 1\n",
        "hidden_size = 2\n",
        "num_layers = 1\n",
        "\n",
        "num_classes = 1\n",
        "\n",
        "#por defecto se crea una lstm con precision de 16bit, en pytorch 1.6.0 hay un bug que no permite el uso de 16bit con lstm\n",
        "#pasamos la red a doble precision\n",
        "lstm = LSTM(num_classes, input_size, hidden_size, num_layers).to(device).double()\n",
        "\n",
        "criterion = torch.nn.MSELoss()    # mean-squared error for regression\n",
        "optimizer = torch.optim.Adam(lstm.parameters(), lr=learning_rate)\n",
        "#optimizer = torch.optim.SGD(lstm.parameters(), lr=learning_rate)\n",
        "\n",
        "# Train the model\n",
        "for epoch in range(num_epochs):\n",
        "    outputs = lstm(x_train)\n",
        "    optimizer.zero_grad()\n",
        "    \n",
        "    # obtain the loss function\n",
        "    loss = criterion(outputs, y_train)\n",
        "    \n",
        "    loss.backward()\n",
        "    \n",
        "    optimizer.step()\n",
        "    if epoch % 100 == 0:\n",
        "      print(\"Epoch: %d, loss: %1.5f\" % (epoch, loss.item()))"
      ],
      "execution_count": null,
      "outputs": []
    },
    {
      "cell_type": "code",
      "metadata": {
        "id": "A6GYKhLh5slC",
        "colab_type": "code",
        "colab": {}
      },
      "source": [
        "lstm.eval()\n",
        "train_predict = lstm(x)\n",
        "\n",
        "data_predict = train_predict.cpu().data.numpy()\n",
        "dataY_plot = y.cpu().data.numpy()\n",
        "\n",
        "data_predict = sc.inverse_transform(data_predict)\n",
        "dataY_plot = sc.inverse_transform(dataY_plot)\n",
        "\n",
        "plt.axvline(x=train_size, c='r', linestyle='--')\n",
        "\n",
        "plt.plot(dataY_plot)\n",
        "plt.plot(data_predict)\n",
        "plt.suptitle('Time-Series Prediction')\n",
        "plt.show()"
      ],
      "execution_count": null,
      "outputs": []
    }
  ]
}