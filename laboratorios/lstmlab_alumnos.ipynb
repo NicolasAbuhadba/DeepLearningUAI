{
  "nbformat": 4,
  "nbformat_minor": 0,
  "metadata": {
    "colab": {
      "name": "lstmlab-alumnos.ipynb",
      "provenance": [],
      "collapsed_sections": [],
      "toc_visible": true
    },
    "kernelspec": {
      "name": "python3",
      "display_name": "Python 3"
    },
    "accelerator": "GPU"
  },
  "cells": [
    {
      "cell_type": "markdown",
      "metadata": {
        "id": "MdpTzX4opcsg",
        "colab_type": "text"
      },
      "source": [
        "# Laboratorio 7: Redes LSTM\n",
        "\n",
        "Construiremos dos ejemplos de redes neuronales recurrentes utilizando LSTM.\n",
        "\n",
        "## 1. Descargar las base de datos de dos series de tiempo"
      ]
    },
    {
      "cell_type": "code",
      "metadata": {
        "id": "J_4ts-lupX4W",
        "colab_type": "code",
        "colab": {}
      },
      "source": [
        "#https://machinelearningmastery.com/time-series-forecasting-long-short-term-memory-network-python/\n",
        "!wget https://raw.githubusercontent.com/jbrownlee/Datasets/master/shampoo.csv\n",
        "#https://machinelearningmastery.com/time-series-prediction-lstm-recurrent-neural-networks-python-keras/\n",
        "!wget https://raw.githubusercontent.com/jbrownlee/Datasets/master/airline-passengers.csv"
      ],
      "execution_count": null,
      "outputs": []
    },
    {
      "cell_type": "markdown",
      "metadata": {
        "id": "MZIOpQZzkLVk",
        "colab_type": "text"
      },
      "source": [
        "## 2. Cargar librerías"
      ]
    },
    {
      "cell_type": "code",
      "metadata": {
        "id": "hG4h29npwRKh",
        "colab_type": "code",
        "colab": {}
      },
      "source": [
        "import numpy as np\n",
        "import matplotlib.pyplot as plt\n",
        "import pandas as pd\n",
        "import torch\n",
        "import torch.nn as nn\n",
        "from sklearn.preprocessing import MinMaxScaler"
      ],
      "execution_count": null,
      "outputs": []
    },
    {
      "cell_type": "markdown",
      "metadata": {
        "id": "UazvgdgrkSRQ",
        "colab_type": "text"
      },
      "source": [
        "## 3. Cargando y revisando los datos de pasajeros de una aerolínea\n",
        "\n",
        "Leer los datos utilizando Pandas."
      ]
    },
    {
      "cell_type": "code",
      "metadata": {
        "id": "t6xTMPn6wkdT",
        "colab_type": "code",
        "colab": {}
      },
      "source": [
        ""
      ],
      "execution_count": null,
      "outputs": []
    },
    {
      "cell_type": "markdown",
      "metadata": {
        "id": "IEdGR-pBkqyX",
        "colab_type": "text"
      },
      "source": [
        "Graficamos los datos."
      ]
    },
    {
      "cell_type": "code",
      "metadata": {
        "id": "ZYc1vCiewVuV",
        "colab_type": "code",
        "colab": {}
      },
      "source": [
        ""
      ],
      "execution_count": null,
      "outputs": []
    },
    {
      "cell_type": "markdown",
      "metadata": {
        "id": "184k2-2zxj6K",
        "colab_type": "text"
      },
      "source": [
        "## 4. Creación de ventana deslizante\n",
        "\n",
        "Creamos una ventana deslizante, dada una secuencia de tamaño n se desea predecir el siguiente punto."
      ]
    },
    {
      "cell_type": "code",
      "metadata": {
        "id": "zW0HnSJEwirP",
        "colab_type": "code",
        "colab": {}
      },
      "source": [
        ""
      ],
      "execution_count": null,
      "outputs": []
    },
    {
      "cell_type": "markdown",
      "metadata": {
        "id": "H1OvjDAa07Qd",
        "colab_type": "text"
      },
      "source": [
        "## 5. Seleccionamos datos de entrenamiento y validación\n",
        "\n",
        "Creamos dos particiones una de entrenamiento y otra de validación. Donde esta última, son los datos después de cierta fecha."
      ]
    },
    {
      "cell_type": "code",
      "metadata": {
        "id": "uw8vRTzAxcW4",
        "colab_type": "code",
        "colab": {}
      },
      "source": [
        ""
      ],
      "execution_count": null,
      "outputs": []
    },
    {
      "cell_type": "markdown",
      "metadata": {
        "id": "VwKolpVq1LeI",
        "colab_type": "text"
      },
      "source": [
        "Modelo"
      ]
    },
    {
      "cell_type": "code",
      "metadata": {
        "id": "9iXndWOj0Y3u",
        "colab_type": "code",
        "colab": {}
      },
      "source": [
        ""
      ],
      "execution_count": null,
      "outputs": []
    },
    {
      "cell_type": "code",
      "metadata": {
        "id": "VeGyXxOa1XRF",
        "colab_type": "code",
        "colab": {}
      },
      "source": [
        ""
      ],
      "execution_count": null,
      "outputs": []
    },
    {
      "cell_type": "markdown",
      "metadata": {
        "id": "aVLWoOs93k_C",
        "colab_type": "text"
      },
      "source": [
        "Vemos el resultado sobre el set de datos"
      ]
    },
    {
      "cell_type": "code",
      "metadata": {
        "id": "bpUbeqv31gRT",
        "colab_type": "code",
        "colab": {}
      },
      "source": [
        "lstm.eval()\n",
        "train_predict = lstm(x)\n",
        "\n",
        "data_predict = train_predict.cpu().data.numpy()\n",
        "dataY_plot = y.cpu().data.numpy()\n",
        "\n",
        "data_predict = sc.inverse_transform(data_predict)\n",
        "dataY_plot = sc.inverse_transform(dataY_plot)\n",
        "#Dibujamos una linea roja que nos dira cuando comienza el set de validacion\n",
        "plt.axvline(x=train_size, c='r', linestyle='--')\n",
        "\n",
        "plt.plot(dataY_plot)\n",
        "plt.plot(data_predict)\n",
        "plt.suptitle('Prediccion de la serie de tiempo')\n",
        "plt.show()"
      ],
      "execution_count": null,
      "outputs": []
    },
    {
      "cell_type": "markdown",
      "metadata": {
        "id": "jRsZ-00J4w2Y",
        "colab_type": "text"
      },
      "source": [
        "# Laboratorio: Base de datos Shampoo"
      ]
    },
    {
      "cell_type": "code",
      "metadata": {
        "id": "EALyv_ZC3qUx",
        "colab_type": "code",
        "colab": {}
      },
      "source": [
        "training_set = pd.read_csv('shampoo.csv')\n",
        "training_set.head()"
      ],
      "execution_count": null,
      "outputs": []
    },
    {
      "cell_type": "code",
      "metadata": {
        "id": "Z8HTELnK4cLK",
        "colab_type": "code",
        "colab": {}
      },
      "source": [
        "training_set = training_set.iloc[:,1:2].values\n",
        "plt.plot(training_set )\n",
        "plt.suptitle('Ventas de shampoo')\n",
        "plt.show()"
      ],
      "execution_count": null,
      "outputs": []
    },
    {
      "cell_type": "code",
      "metadata": {
        "id": "bEqNLLQ35but",
        "colab_type": "code",
        "colab": {}
      },
      "source": [
        "sc = MinMaxScaler()\n",
        "training_data = sc.fit_transform(training_set)\n",
        "seq_length = 4\n",
        "x, y = sliding_windows(training_data, seq_length)"
      ],
      "execution_count": null,
      "outputs": []
    },
    {
      "cell_type": "code",
      "metadata": {
        "id": "AD3ULRfy5kSK",
        "colab_type": "code",
        "colab": {}
      },
      "source": [
        "device = torch.device('cuda:0' if torch.cuda.is_available() else 'cpu')\n",
        "\n",
        "train_size = int(len(y) * 0.67)\n",
        "val_size = len(y) - train_size\n",
        "\n",
        "x_train = torch.tensor(x[0:train_size],device=device)\n",
        "y_train = torch.tensor(y[0:train_size],device=device)\n",
        "x_val = torch.tensor(x[val_size:],device=device)\n",
        "y_val = torch.tensor(y[val_size:],device=device)\n",
        "\n",
        "x = torch.tensor(x,device=device)\n",
        "y = torch.tensor(y,device=device)\n"
      ],
      "execution_count": null,
      "outputs": []
    },
    {
      "cell_type": "code",
      "metadata": {
        "id": "SwaSn1rE5pzD",
        "colab_type": "code",
        "colab": {}
      },
      "source": [
        "num_epochs = 2000\n",
        "learning_rate = 0.01\n",
        "\n",
        "input_size = 1\n",
        "hidden_size = 2\n",
        "num_layers = 1\n",
        "\n",
        "num_classes = 1\n",
        "\n",
        "#por defecto se crea una lstm con precision de 16bit, en pytorch 1.6.0 hay un bug que no permite el uso de 16bit con lstm\n",
        "#pasamos la red a doble precision\n",
        "lstm = LSTM(num_classes, input_size, hidden_size, num_layers).to(device).double()\n",
        "\n",
        "criterion = torch.nn.MSELoss()    # mean-squared error for regression\n",
        "optimizer = torch.optim.Adam(lstm.parameters(), lr=learning_rate)\n",
        "#optimizer = torch.optim.SGD(lstm.parameters(), lr=learning_rate)\n",
        "\n",
        "# Train the model\n",
        "for epoch in range(num_epochs):\n",
        "    outputs = lstm(x_train)\n",
        "    optimizer.zero_grad()\n",
        "    \n",
        "    # obtain the loss function\n",
        "    loss = criterion(outputs, y_train)\n",
        "    \n",
        "    loss.backward()\n",
        "    \n",
        "    optimizer.step()\n",
        "    if epoch % 100 == 0:\n",
        "      print(\"Epoch: %d, loss: %1.5f\" % (epoch, loss.item()))"
      ],
      "execution_count": null,
      "outputs": []
    },
    {
      "cell_type": "code",
      "metadata": {
        "id": "A6GYKhLh5slC",
        "colab_type": "code",
        "colab": {}
      },
      "source": [
        "lstm.eval()\n",
        "train_predict = lstm(x)\n",
        "\n",
        "data_predict = train_predict.cpu().data.numpy()\n",
        "dataY_plot = y.cpu().data.numpy()\n",
        "\n",
        "data_predict = sc.inverse_transform(data_predict)\n",
        "dataY_plot = sc.inverse_transform(dataY_plot)\n",
        "\n",
        "plt.axvline(x=train_size, c='r', linestyle='--')\n",
        "\n",
        "plt.plot(dataY_plot)\n",
        "plt.plot(data_predict)\n",
        "plt.suptitle('Time-Series Prediction')\n",
        "plt.show()"
      ],
      "execution_count": null,
      "outputs": []
    }
  ]
}