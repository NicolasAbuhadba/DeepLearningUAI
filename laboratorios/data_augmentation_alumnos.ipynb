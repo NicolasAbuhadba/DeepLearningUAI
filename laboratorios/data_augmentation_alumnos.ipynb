{
  "nbformat": 4,
  "nbformat_minor": 0,
  "metadata": {
    "colab": {
      "name": "data_augmentation-alumnos.ipynb",
      "provenance": [],
      "collapsed_sections": [],
      "toc_visible": true
    },
    "kernelspec": {
      "name": "python3",
      "display_name": "Python 3"
    },
    "accelerator": "GPU"
  },
  "cells": [
    {
      "cell_type": "markdown",
      "metadata": {
        "id": "ZpUS3WwRdOeq",
        "colab_type": "text"
      },
      "source": [
        "# Laboratorio 5: Deep learning (Perros y gatos)\n",
        "\n",
        "Procedimiento:\n",
        "\n",
        "1.   Cargar la base de datos ([https://www.kaggle.com/chetankv/dogs-cats-images?](https://www.kaggle.com/chetankv/dogs-cats-images?))\n",
        "2.   Realizar las transformaciones\n",
        "\n"
      ]
    },
    {
      "cell_type": "code",
      "metadata": {
        "id": "A9bEoPt953zN",
        "colab_type": "code",
        "colab": {}
      },
      "source": [
        "from google.colab import drive\n",
        "drive.mount('/content/drive')"
      ],
      "execution_count": null,
      "outputs": []
    },
    {
      "cell_type": "markdown",
      "metadata": {
        "id": "ocTPe2oRgHB3",
        "colab_type": "text"
      },
      "source": [
        "## 1. Cargar las librerías"
      ]
    },
    {
      "cell_type": "code",
      "metadata": {
        "id": "UknSe3QigGdg",
        "colab_type": "code",
        "colab": {}
      },
      "source": [
        ""
      ],
      "execution_count": null,
      "outputs": []
    },
    {
      "cell_type": "markdown",
      "metadata": {
        "id": "4E4cJ8wYf-G8",
        "colab_type": "text"
      },
      "source": [
        "## 2. Cargar imágenes\n",
        "\n",
        "Se cargan las imágenes utilizando la clase ImageFolder. La clase ImageForder etiqueta automáticamente las imágenes dada una ruta donde se encuentran los datos. Por ejemplo, si tengo el directorio raíz dataset/training_set. Debo dejar mis imágenes de cada clase en una carpeta diferente. Si tengo imágenes de gatos debo dejarlos en dataset/training_set/cats, si tengo imágenes de perros las debo dejar en dataset/training_set/dogs, etc."
      ]
    },
    {
      "cell_type": "code",
      "metadata": {
        "id": "ViYqZF2Wf9c1",
        "colab_type": "code",
        "colab": {}
      },
      "source": [
        ""
      ],
      "execution_count": null,
      "outputs": []
    },
    {
      "cell_type": "markdown",
      "metadata": {
        "id": "12WdL18nhjbK",
        "colab_type": "text"
      },
      "source": [
        "## 3. Visualizo las imágenes cargadas"
      ]
    },
    {
      "cell_type": "code",
      "metadata": {
        "id": "ny7WjxC2c98h",
        "colab_type": "code",
        "colab": {}
      },
      "source": [
        ""
      ],
      "execution_count": null,
      "outputs": []
    },
    {
      "cell_type": "markdown",
      "metadata": {
        "id": "jQ9ZGWnAsc0p",
        "colab_type": "text"
      },
      "source": [
        "## 4. Separando la base de datos\n",
        "\n",
        "Para realizar el entrenamiento y pruebas se recomienda separar los datos en tres conjuntos:\n",
        "\n",
        "* **Conjunto de entrenamiento:** El modelo aprende de los ejemplos de este conjunto de datos. Se ajusta un parámetro a un clasificador.\n",
        "* **Conjunto de validación:** Los ejemplos en el conjunto de datos de validación se utilizan para ajustar los hiperparámetros, como la tasa de aprendizaje y las épocas. El objetivo de crear un conjunto de validación es evitar un sobreajuste grande del modelo. Es un punto de control para saber si el modelo se ajusta bien con el conjunto de datos de entrenamiento.\n",
        "* **Conjunto de pruebas:** Este conjunto de datos prueba la evolución final del modelo, midiendo qué tan bien aprendió y predijo el resultado deseado. Contiene datos invisibles de la vida real. Es un conjunto diferente al de entrenamiento y validación.\n",
        "\n",
        "Imagen: [https://i.imgur.com/DV80uhS.png](https://i.imgur.com/DV80uhS.png)"
      ]
    },
    {
      "cell_type": "code",
      "metadata": {
        "id": "vN-x-nvFtg2y",
        "colab_type": "code",
        "colab": {}
      },
      "source": [
        ""
      ],
      "execution_count": null,
      "outputs": []
    },
    {
      "cell_type": "markdown",
      "metadata": {
        "id": "sveSe-qCdBzx",
        "colab_type": "text"
      },
      "source": [
        "### Revisamos las imagenes de las nuevas cargas\n",
        "\n"
      ]
    },
    {
      "cell_type": "code",
      "metadata": {
        "id": "LgR6XHBudLIC",
        "colab_type": "code",
        "colab": {}
      },
      "source": [
        ""
      ],
      "execution_count": null,
      "outputs": []
    },
    {
      "cell_type": "markdown",
      "metadata": {
        "id": "Qc994ub9uREd",
        "colab_type": "text"
      },
      "source": [
        "## 5. El modelo\n",
        "\n",
        "Construimos un modelo con dos capas convolucionales, un dropout y dos capas completamente conectadas para la clasificación.\n",
        "\n",
        "* Imagen red: [https://i.imgur.com/wiP9IwZ.png](https://i.imgur.com/wiP9IwZ.png)\n",
        "* Imagen Conv: https://i.imgur.com/E9GGJMJ.gif\n",
        "* Imagen Pool: https://i.imgur.com/kSwID7J.png"
      ]
    },
    {
      "cell_type": "code",
      "metadata": {
        "id": "Ry6QGZ4duYLt",
        "colab_type": "code",
        "colab": {}
      },
      "source": [
        ""
      ],
      "execution_count": null,
      "outputs": []
    },
    {
      "cell_type": "markdown",
      "metadata": {
        "id": "_Pq3a1-seC27",
        "colab_type": "text"
      },
      "source": [
        "### Creamos el modelo"
      ]
    },
    {
      "cell_type": "code",
      "metadata": {
        "id": "SfCJxfVyeGF1",
        "colab_type": "code",
        "colab": {}
      },
      "source": [
        ""
      ],
      "execution_count": null,
      "outputs": []
    },
    {
      "cell_type": "markdown",
      "metadata": {
        "id": "9OE9DpmgebP2",
        "colab_type": "text"
      },
      "source": [
        "## 6. Optimización\n",
        "\n",
        "Seleccionamos cualquier algoritmo optimizador disponible en el paquete `torch.optim`. En general, los optimizadores son moficaciones del descenso del gradiente. Cambiando los parámetros del modelo, como los pesos, y añadiendo sesgo, el modelo puede ser optimizado. La **tasa de aprendizaje** decidirá cuán grandes deben ser los pasos para cambiar los parámetros.\n",
        "\n",
        "* Calcular lo que un pequeño cambio en cada peso haría a la función de pérdida (seleccionando la dirección para alcanzar los mínimos).\n",
        "* Ajustar cada peso en función de su gradiente (es decir, dar un pequeño paso en la dirección determinada).\n",
        "* Continúe haciendo los pasos 1 y 2 hasta que la función de pérdida sea lo más baja posible.\n",
        "\n",
        "Aquí, la estimación del momento adaptativo (*adaptive moment estimation* - Adam) se utiliza como un optimizador. Es una mezcla de **RMSprop** y **descenso de gradiente estocástico**.\n",
        "\n",
        "### Configuración de Hyperparámetros"
      ]
    },
    {
      "cell_type": "code",
      "metadata": {
        "id": "bdMQvmHNgF9g",
        "colab_type": "code",
        "colab": {}
      },
      "source": [
        ""
      ],
      "execution_count": null,
      "outputs": []
    },
    {
      "cell_type": "markdown",
      "metadata": {
        "id": "_--K5URFhI6w",
        "colab_type": "text"
      },
      "source": [
        "### Configuración del dispositivo"
      ]
    },
    {
      "cell_type": "code",
      "metadata": {
        "id": "JLHbjrZFgIAp",
        "colab_type": "code",
        "colab": {}
      },
      "source": [
        ""
      ],
      "execution_count": null,
      "outputs": []
    },
    {
      "cell_type": "markdown",
      "metadata": {
        "id": "E7xEUGTKhQr_",
        "colab_type": "text"
      },
      "source": [
        "### Optimizador"
      ]
    },
    {
      "cell_type": "code",
      "metadata": {
        "id": "OAUo9F4AgHtB",
        "colab_type": "code",
        "colab": {}
      },
      "source": [
        ""
      ],
      "execution_count": null,
      "outputs": []
    },
    {
      "cell_type": "markdown",
      "metadata": {
        "id": "IMy41FuKhi53",
        "colab_type": "text"
      },
      "source": [
        "## 7. Entrenamiento"
      ]
    },
    {
      "cell_type": "code",
      "metadata": {
        "id": "gn5lAw3Zh8kd",
        "colab_type": "code",
        "colab": {}
      },
      "source": [
        ""
      ],
      "execution_count": null,
      "outputs": []
    },
    {
      "cell_type": "markdown",
      "metadata": {
        "id": "TYWlCVMUh-D6",
        "colab_type": "text"
      },
      "source": [
        "## 8. Pruebas\n"
      ]
    },
    {
      "cell_type": "code",
      "metadata": {
        "id": "MGHRkuVpiI8z",
        "colab_type": "code",
        "colab": {}
      },
      "source": [
        ""
      ],
      "execution_count": null,
      "outputs": []
    },
    {
      "cell_type": "markdown",
      "metadata": {
        "id": "H9OXbPI1iOid",
        "colab_type": "text"
      },
      "source": [
        "9. Graficamos los resultados"
      ]
    },
    {
      "cell_type": "code",
      "metadata": {
        "id": "FohlEiWNiNh0",
        "colab_type": "code",
        "colab": {}
      },
      "source": [
        ""
      ],
      "execution_count": null,
      "outputs": []
    }
  ]
}